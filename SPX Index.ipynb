{
 "cells": [
  {
   "cell_type": "code",
   "execution_count": 237,
   "metadata": {},
   "outputs": [],
   "source": [
    "import pandas as pd\n",
    "import numpy as np\n",
    "import math\n",
    "import matplotlib.pyplot as plt\n",
    "import seaborn as sns\n",
    "from statistics import mean\n",
    "from sklearn.linear_model import LinearRegression\n",
    "from sklearn.model_selection import train_test_split\n",
    "from statsmodels.regression.rolling import RollingOLS"
   ]
  },
  {
   "cell_type": "code",
   "execution_count": 238,
   "metadata": {},
   "outputs": [],
   "source": [
    "df = pd.read_csv('SPX Index.csv', header=[0,1], index_col = 0)"
   ]
  },
  {
   "cell_type": "code",
   "execution_count": 239,
   "metadata": {},
   "outputs": [
    {
     "name": "stdout",
     "output_type": "stream",
     "text": [
      "21\n"
     ]
    }
   ],
   "source": [
    "#count number of attributes --> att_number\n",
    "first_attribute = df.columns[0][1]\n",
    "att_number = 1\n",
    "att_name = []\n",
    "for col in df.columns[1:]:\n",
    "    if (col[1] != first_attribute):\n",
    "        att_number += 1\n",
    "        att_name.append(col[1])\n",
    "    else:\n",
    "        break\n",
    "print(att_number)"
   ]
  },
  {
   "cell_type": "code",
   "execution_count": 240,
   "metadata": {},
   "outputs": [],
   "source": [
    "#change level 0 row name from unnamed to company name\n",
    "count = 2\n",
    "company_list = []\n",
    "for company in df.columns[::att_number]:\n",
    "    company_list.append(company[0])\n",
    "    for i in range(att_number):\n",
    "        df.rename(columns={'Unnamed: {}_level_0'.format(count): company[0]}, inplace=True)\n",
    "        count += 1"
   ]
  },
  {
   "cell_type": "code",
   "execution_count": 241,
   "metadata": {
    "scrolled": true
   },
   "outputs": [],
   "source": [
    "df.index = pd.to_datetime(df.index)"
   ]
  },
  {
   "cell_type": "code",
   "execution_count": 242,
   "metadata": {},
   "outputs": [],
   "source": [
    "for i in range(0, df.shape[1], att_number+1):\n",
    "    df.insert(i, (df.columns[i][0],'DAILY_RETURN'), df[(df.columns[i][0], 'PX_LAST')].pct_change())\n",
    "att_number += 1 #DAILY_RETURN added to each company\n",
    "df = df[1:] #drop first row"
   ]
  },
  {
   "cell_type": "code",
   "execution_count": 243,
   "metadata": {},
   "outputs": [],
   "source": [
    "att_name.insert(0, 'DAILY_RETURN')"
   ]
  },
  {
   "cell_type": "code",
   "execution_count": 244,
   "metadata": {},
   "outputs": [
    {
     "data": {
      "text/html": [
       "<div>\n",
       "<style scoped>\n",
       "    .dataframe tbody tr th:only-of-type {\n",
       "        vertical-align: middle;\n",
       "    }\n",
       "\n",
       "    .dataframe tbody tr th {\n",
       "        vertical-align: top;\n",
       "    }\n",
       "\n",
       "    .dataframe thead tr th {\n",
       "        text-align: left;\n",
       "    }\n",
       "</style>\n",
       "<table border=\"1\" class=\"dataframe\">\n",
       "  <thead>\n",
       "    <tr>\n",
       "      <th></th>\n",
       "      <th colspan=\"10\" halign=\"left\">A UN Equity</th>\n",
       "      <th>...</th>\n",
       "      <th colspan=\"10\" halign=\"left\">ZTS UN Equity</th>\n",
       "    </tr>\n",
       "    <tr>\n",
       "      <th>Dates</th>\n",
       "      <th>DAILY_RETURN</th>\n",
       "      <th>PX_LAST</th>\n",
       "      <th>PE_RATIO</th>\n",
       "      <th>FREE_CASH_FLOW_YIELD</th>\n",
       "      <th>PX_TO_BOOK_RATIO</th>\n",
       "      <th>DVD_PAYOUT_RATIO</th>\n",
       "      <th>NET_DEBT_TO_EBITDA</th>\n",
       "      <th>PROF_MARGIN</th>\n",
       "      <th>CURRENT_EV_TO_T12M_EBITDA</th>\n",
       "      <th>RETURN_ON_INV_CAPITAL</th>\n",
       "      <th>...</th>\n",
       "      <th>MOV_AVG_50D</th>\n",
       "      <th>MOV_AVG_100D</th>\n",
       "      <th>MOV_AVG_200D</th>\n",
       "      <th>RETURN_ON_ASSET</th>\n",
       "      <th>PX_TO_CASH_FLOW</th>\n",
       "      <th>PX_TO_SALES_RATIO</th>\n",
       "      <th>CAP_EXPEND_TO_SALES</th>\n",
       "      <th>CASH_CONVERSION_CYCLE</th>\n",
       "      <th>QUICK_RATIO</th>\n",
       "      <th>TOT_DEBT_TO_TOT_EQY</th>\n",
       "    </tr>\n",
       "  </thead>\n",
       "  <tbody>\n",
       "    <tr>\n",
       "      <th>2011-03-01</th>\n",
       "      <td>0.010862</td>\n",
       "      <td>29.9478</td>\n",
       "      <td>12.7400</td>\n",
       "      <td>5.7005</td>\n",
       "      <td>3.2100</td>\n",
       "      <td>NaN</td>\n",
       "      <td>NaN</td>\n",
       "      <td>NaN</td>\n",
       "      <td>20.3225</td>\n",
       "      <td>NaN</td>\n",
       "      <td>...</td>\n",
       "      <td>NaN</td>\n",
       "      <td>NaN</td>\n",
       "      <td>NaN</td>\n",
       "      <td>NaN</td>\n",
       "      <td>NaN</td>\n",
       "      <td>NaN</td>\n",
       "      <td>NaN</td>\n",
       "      <td>NaN</td>\n",
       "      <td>NaN</td>\n",
       "      <td>NaN</td>\n",
       "    </tr>\n",
       "    <tr>\n",
       "      <th>2011-04-01</th>\n",
       "      <td>-0.009310</td>\n",
       "      <td>29.6690</td>\n",
       "      <td>12.6214</td>\n",
       "      <td>5.7541</td>\n",
       "      <td>3.1801</td>\n",
       "      <td>NaN</td>\n",
       "      <td>NaN</td>\n",
       "      <td>NaN</td>\n",
       "      <td>20.1460</td>\n",
       "      <td>NaN</td>\n",
       "      <td>...</td>\n",
       "      <td>NaN</td>\n",
       "      <td>NaN</td>\n",
       "      <td>NaN</td>\n",
       "      <td>NaN</td>\n",
       "      <td>NaN</td>\n",
       "      <td>NaN</td>\n",
       "      <td>NaN</td>\n",
       "      <td>NaN</td>\n",
       "      <td>NaN</td>\n",
       "      <td>NaN</td>\n",
       "    </tr>\n",
       "    <tr>\n",
       "      <th>2011-05-01</th>\n",
       "      <td>-0.002171</td>\n",
       "      <td>29.6046</td>\n",
       "      <td>12.5940</td>\n",
       "      <td>5.7666</td>\n",
       "      <td>3.1732</td>\n",
       "      <td>NaN</td>\n",
       "      <td>NaN</td>\n",
       "      <td>NaN</td>\n",
       "      <td>20.1052</td>\n",
       "      <td>NaN</td>\n",
       "      <td>...</td>\n",
       "      <td>NaN</td>\n",
       "      <td>NaN</td>\n",
       "      <td>NaN</td>\n",
       "      <td>NaN</td>\n",
       "      <td>NaN</td>\n",
       "      <td>NaN</td>\n",
       "      <td>NaN</td>\n",
       "      <td>NaN</td>\n",
       "      <td>NaN</td>\n",
       "      <td>NaN</td>\n",
       "    </tr>\n",
       "    <tr>\n",
       "      <th>2011-06-01</th>\n",
       "      <td>0.001932</td>\n",
       "      <td>29.6618</td>\n",
       "      <td>12.6183</td>\n",
       "      <td>5.7555</td>\n",
       "      <td>3.1794</td>\n",
       "      <td>NaN</td>\n",
       "      <td>NaN</td>\n",
       "      <td>NaN</td>\n",
       "      <td>20.1414</td>\n",
       "      <td>NaN</td>\n",
       "      <td>...</td>\n",
       "      <td>NaN</td>\n",
       "      <td>NaN</td>\n",
       "      <td>NaN</td>\n",
       "      <td>NaN</td>\n",
       "      <td>NaN</td>\n",
       "      <td>NaN</td>\n",
       "      <td>NaN</td>\n",
       "      <td>NaN</td>\n",
       "      <td>NaN</td>\n",
       "      <td>NaN</td>\n",
       "    </tr>\n",
       "    <tr>\n",
       "      <th>2011-07-01</th>\n",
       "      <td>0.003375</td>\n",
       "      <td>29.7619</td>\n",
       "      <td>12.6609</td>\n",
       "      <td>5.7361</td>\n",
       "      <td>3.1901</td>\n",
       "      <td>NaN</td>\n",
       "      <td>NaN</td>\n",
       "      <td>NaN</td>\n",
       "      <td>20.2048</td>\n",
       "      <td>NaN</td>\n",
       "      <td>...</td>\n",
       "      <td>NaN</td>\n",
       "      <td>NaN</td>\n",
       "      <td>NaN</td>\n",
       "      <td>NaN</td>\n",
       "      <td>NaN</td>\n",
       "      <td>NaN</td>\n",
       "      <td>NaN</td>\n",
       "      <td>NaN</td>\n",
       "      <td>NaN</td>\n",
       "      <td>NaN</td>\n",
       "    </tr>\n",
       "    <tr>\n",
       "      <th>...</th>\n",
       "      <td>...</td>\n",
       "      <td>...</td>\n",
       "      <td>...</td>\n",
       "      <td>...</td>\n",
       "      <td>...</td>\n",
       "      <td>...</td>\n",
       "      <td>...</td>\n",
       "      <td>...</td>\n",
       "      <td>...</td>\n",
       "      <td>...</td>\n",
       "      <td>...</td>\n",
       "      <td>...</td>\n",
       "      <td>...</td>\n",
       "      <td>...</td>\n",
       "      <td>...</td>\n",
       "      <td>...</td>\n",
       "      <td>...</td>\n",
       "      <td>...</td>\n",
       "      <td>...</td>\n",
       "      <td>...</td>\n",
       "      <td>...</td>\n",
       "    </tr>\n",
       "    <tr>\n",
       "      <th>2021-03-29</th>\n",
       "      <td>-0.001751</td>\n",
       "      <td>125.4200</td>\n",
       "      <td>42.9639</td>\n",
       "      <td>2.8256</td>\n",
       "      <td>7.9628</td>\n",
       "      <td>19.125</td>\n",
       "      <td>1.0338</td>\n",
       "      <td>18.6047</td>\n",
       "      <td>30.3849</td>\n",
       "      <td>11.1135</td>\n",
       "      <td>...</td>\n",
       "      <td>157.2252</td>\n",
       "      <td>160.2180</td>\n",
       "      <td>156.7708</td>\n",
       "      <td>13.0238</td>\n",
       "      <td>35.4263</td>\n",
       "      <td>11.2831</td>\n",
       "      <td>8.4117</td>\n",
       "      <td>266.8466</td>\n",
       "      <td>2.1276</td>\n",
       "      <td>196.1834</td>\n",
       "    </tr>\n",
       "    <tr>\n",
       "      <th>2021-03-30</th>\n",
       "      <td>-0.004624</td>\n",
       "      <td>124.8400</td>\n",
       "      <td>42.7652</td>\n",
       "      <td>2.8388</td>\n",
       "      <td>7.9259</td>\n",
       "      <td>19.125</td>\n",
       "      <td>1.0338</td>\n",
       "      <td>18.6047</td>\n",
       "      <td>30.2492</td>\n",
       "      <td>11.1135</td>\n",
       "      <td>...</td>\n",
       "      <td>157.1348</td>\n",
       "      <td>160.1570</td>\n",
       "      <td>156.8857</td>\n",
       "      <td>13.0238</td>\n",
       "      <td>35.1243</td>\n",
       "      <td>11.1870</td>\n",
       "      <td>8.4117</td>\n",
       "      <td>266.8466</td>\n",
       "      <td>2.1276</td>\n",
       "      <td>196.1834</td>\n",
       "    </tr>\n",
       "    <tr>\n",
       "      <th>2021-03-31</th>\n",
       "      <td>0.018424</td>\n",
       "      <td>127.1400</td>\n",
       "      <td>43.5531</td>\n",
       "      <td>2.7874</td>\n",
       "      <td>8.0720</td>\n",
       "      <td>19.125</td>\n",
       "      <td>1.0338</td>\n",
       "      <td>18.6047</td>\n",
       "      <td>30.7874</td>\n",
       "      <td>11.1135</td>\n",
       "      <td>...</td>\n",
       "      <td>157.0330</td>\n",
       "      <td>159.9883</td>\n",
       "      <td>157.0066</td>\n",
       "      <td>13.0238</td>\n",
       "      <td>35.2228</td>\n",
       "      <td>11.2183</td>\n",
       "      <td>8.4117</td>\n",
       "      <td>266.8466</td>\n",
       "      <td>2.1276</td>\n",
       "      <td>196.1834</td>\n",
       "    </tr>\n",
       "    <tr>\n",
       "      <th>2021-01-04</th>\n",
       "      <td>0.004326</td>\n",
       "      <td>127.6900</td>\n",
       "      <td>43.7415</td>\n",
       "      <td>2.7754</td>\n",
       "      <td>8.1069</td>\n",
       "      <td>19.125</td>\n",
       "      <td>1.0338</td>\n",
       "      <td>18.6047</td>\n",
       "      <td>30.9161</td>\n",
       "      <td>11.1135</td>\n",
       "      <td>...</td>\n",
       "      <td>156.9236</td>\n",
       "      <td>159.8582</td>\n",
       "      <td>157.1148</td>\n",
       "      <td>13.0238</td>\n",
       "      <td>35.3145</td>\n",
       "      <td>11.2475</td>\n",
       "      <td>8.4117</td>\n",
       "      <td>266.8466</td>\n",
       "      <td>2.1276</td>\n",
       "      <td>196.1834</td>\n",
       "    </tr>\n",
       "    <tr>\n",
       "      <th>2021-02-04</th>\n",
       "      <td>0.000000</td>\n",
       "      <td>127.6900</td>\n",
       "      <td>43.7415</td>\n",
       "      <td>2.7754</td>\n",
       "      <td>8.1069</td>\n",
       "      <td>19.125</td>\n",
       "      <td>1.0338</td>\n",
       "      <td>18.6047</td>\n",
       "      <td>30.9161</td>\n",
       "      <td>11.1135</td>\n",
       "      <td>...</td>\n",
       "      <td>156.9236</td>\n",
       "      <td>159.8582</td>\n",
       "      <td>157.1148</td>\n",
       "      <td>13.0238</td>\n",
       "      <td>35.3145</td>\n",
       "      <td>11.2475</td>\n",
       "      <td>8.4117</td>\n",
       "      <td>266.8466</td>\n",
       "      <td>2.1276</td>\n",
       "      <td>196.1834</td>\n",
       "    </tr>\n",
       "  </tbody>\n",
       "</table>\n",
       "<p>2675 rows × 11088 columns</p>\n",
       "</div>"
      ],
      "text/plain": [
       "            A UN Equity                                          \\\n",
       "Dates      DAILY_RETURN   PX_LAST PE_RATIO FREE_CASH_FLOW_YIELD   \n",
       "2011-03-01     0.010862   29.9478  12.7400               5.7005   \n",
       "2011-04-01    -0.009310   29.6690  12.6214               5.7541   \n",
       "2011-05-01    -0.002171   29.6046  12.5940               5.7666   \n",
       "2011-06-01     0.001932   29.6618  12.6183               5.7555   \n",
       "2011-07-01     0.003375   29.7619  12.6609               5.7361   \n",
       "...                 ...       ...      ...                  ...   \n",
       "2021-03-29    -0.001751  125.4200  42.9639               2.8256   \n",
       "2021-03-30    -0.004624  124.8400  42.7652               2.8388   \n",
       "2021-03-31     0.018424  127.1400  43.5531               2.7874   \n",
       "2021-01-04     0.004326  127.6900  43.7415               2.7754   \n",
       "2021-02-04     0.000000  127.6900  43.7415               2.7754   \n",
       "\n",
       "                                                                             \\\n",
       "Dates      PX_TO_BOOK_RATIO DVD_PAYOUT_RATIO NET_DEBT_TO_EBITDA PROF_MARGIN   \n",
       "2011-03-01           3.2100              NaN                NaN         NaN   \n",
       "2011-04-01           3.1801              NaN                NaN         NaN   \n",
       "2011-05-01           3.1732              NaN                NaN         NaN   \n",
       "2011-06-01           3.1794              NaN                NaN         NaN   \n",
       "2011-07-01           3.1901              NaN                NaN         NaN   \n",
       "...                     ...              ...                ...         ...   \n",
       "2021-03-29           7.9628           19.125             1.0338     18.6047   \n",
       "2021-03-30           7.9259           19.125             1.0338     18.6047   \n",
       "2021-03-31           8.0720           19.125             1.0338     18.6047   \n",
       "2021-01-04           8.1069           19.125             1.0338     18.6047   \n",
       "2021-02-04           8.1069           19.125             1.0338     18.6047   \n",
       "\n",
       "                                                            ... ZTS UN Equity  \\\n",
       "Dates      CURRENT_EV_TO_T12M_EBITDA RETURN_ON_INV_CAPITAL  ...   MOV_AVG_50D   \n",
       "2011-03-01                   20.3225                   NaN  ...           NaN   \n",
       "2011-04-01                   20.1460                   NaN  ...           NaN   \n",
       "2011-05-01                   20.1052                   NaN  ...           NaN   \n",
       "2011-06-01                   20.1414                   NaN  ...           NaN   \n",
       "2011-07-01                   20.2048                   NaN  ...           NaN   \n",
       "...                              ...                   ...  ...           ...   \n",
       "2021-03-29                   30.3849               11.1135  ...      157.2252   \n",
       "2021-03-30                   30.2492               11.1135  ...      157.1348   \n",
       "2021-03-31                   30.7874               11.1135  ...      157.0330   \n",
       "2021-01-04                   30.9161               11.1135  ...      156.9236   \n",
       "2021-02-04                   30.9161               11.1135  ...      156.9236   \n",
       "\n",
       "                                                                      \\\n",
       "Dates      MOV_AVG_100D MOV_AVG_200D RETURN_ON_ASSET PX_TO_CASH_FLOW   \n",
       "2011-03-01          NaN          NaN             NaN             NaN   \n",
       "2011-04-01          NaN          NaN             NaN             NaN   \n",
       "2011-05-01          NaN          NaN             NaN             NaN   \n",
       "2011-06-01          NaN          NaN             NaN             NaN   \n",
       "2011-07-01          NaN          NaN             NaN             NaN   \n",
       "...                 ...          ...             ...             ...   \n",
       "2021-03-29     160.2180     156.7708         13.0238         35.4263   \n",
       "2021-03-30     160.1570     156.8857         13.0238         35.1243   \n",
       "2021-03-31     159.9883     157.0066         13.0238         35.2228   \n",
       "2021-01-04     159.8582     157.1148         13.0238         35.3145   \n",
       "2021-02-04     159.8582     157.1148         13.0238         35.3145   \n",
       "\n",
       "                                                                        \\\n",
       "Dates      PX_TO_SALES_RATIO CAP_EXPEND_TO_SALES CASH_CONVERSION_CYCLE   \n",
       "2011-03-01               NaN                 NaN                   NaN   \n",
       "2011-04-01               NaN                 NaN                   NaN   \n",
       "2011-05-01               NaN                 NaN                   NaN   \n",
       "2011-06-01               NaN                 NaN                   NaN   \n",
       "2011-07-01               NaN                 NaN                   NaN   \n",
       "...                      ...                 ...                   ...   \n",
       "2021-03-29           11.2831              8.4117              266.8466   \n",
       "2021-03-30           11.1870              8.4117              266.8466   \n",
       "2021-03-31           11.2183              8.4117              266.8466   \n",
       "2021-01-04           11.2475              8.4117              266.8466   \n",
       "2021-02-04           11.2475              8.4117              266.8466   \n",
       "\n",
       "                                            \n",
       "Dates      QUICK_RATIO TOT_DEBT_TO_TOT_EQY  \n",
       "2011-03-01         NaN                 NaN  \n",
       "2011-04-01         NaN                 NaN  \n",
       "2011-05-01         NaN                 NaN  \n",
       "2011-06-01         NaN                 NaN  \n",
       "2011-07-01         NaN                 NaN  \n",
       "...                ...                 ...  \n",
       "2021-03-29      2.1276            196.1834  \n",
       "2021-03-30      2.1276            196.1834  \n",
       "2021-03-31      2.1276            196.1834  \n",
       "2021-01-04      2.1276            196.1834  \n",
       "2021-02-04      2.1276            196.1834  \n",
       "\n",
       "[2675 rows x 11088 columns]"
      ]
     },
     "execution_count": 244,
     "metadata": {},
     "output_type": "execute_result"
    }
   ],
   "source": [
    "df"
   ]
  },
  {
   "cell_type": "code",
   "execution_count": 245,
   "metadata": {},
   "outputs": [],
   "source": [
    "#check for first non-null value in each company, i = PX_LAST\n",
    "dict_startrow = {}\n",
    "for i in range(0,df.shape[1], att_number):\n",
    "    dict_startrow[df.columns[i][0]] = df.iloc[:,i].first_valid_index()\n",
    "    #print(df.columns[i][0], dict_startrow[df.columns[i][0]])"
   ]
  },
  {
   "cell_type": "code",
   "execution_count": 246,
   "metadata": {},
   "outputs": [
    {
     "name": "stdout",
     "output_type": "stream",
     "text": [
      "['AAL UW Equity', 'AEP UW Equity', 'ALLE UN Equity', 'AMCR UN Equity', 'AMD UW Equity', 'ANET UN Equity', 'APA UW Equity', 'CARR UN Equity', 'CDW UW Equity', 'CFG UN Equity', 'CSX UW Equity', 'CTLT UN Equity', 'CTVA UN Equity', 'CZR UW Equity', 'DOW UN Equity', 'DXC UN Equity', 'ETSY UW Equity', 'EXC UW Equity', 'FOX UW Equity', 'FOXA UW Equity', 'FTV UN Equity', 'GOOG UW Equity', 'HLT UN Equity', 'HPE UN Equity', 'HST UW Equity', 'HWM UN Equity', 'INFO UN Equity', 'IQV UN Equity', 'IR UN Equity', 'KEYS UN Equity', 'KHC UW Equity', 'LNT UW Equity', 'LW UN Equity', 'MAR UW Equity', 'NCLH UN Equity', 'NWL UW Equity', 'NWS UW Equity', 'NWSA UW Equity', 'ORCL UN Equity', 'OTIS UN Equity', 'PAYC UN Equity', 'PEP UW Equity', 'PFG UW Equity', 'PRGO UN Equity', 'PYPL UW Equity', 'QRVO UW Equity', 'REG UW Equity', 'SYF UN Equity', 'TER UW Equity', 'TMUS UW Equity', 'TWTR UN Equity', 'UA UN Equity', 'VIAC UW Equity', 'WBA UW Equity', 'WLTW UW Equity', 'WRK UN Equity', 'XEL UW Equity']\n"
     ]
    }
   ],
   "source": [
    "#stage1 cleaning, drop companies that enter index after 2013\n",
    "#dataframe become df1\n",
    "companies_todrop = []\n",
    "for key, value in dict_startrow.items():\n",
    "    if value >= pd.Timestamp(2013, 1, 1):\n",
    "        companies_todrop.append(key)\n",
    "        company_list.remove(key)\n",
    "df1 = df.drop(companies_todrop, level=0, axis=1, inplace=False)\n",
    "print(companies_todrop)"
   ]
  },
  {
   "cell_type": "code",
   "execution_count": 247,
   "metadata": {},
   "outputs": [
    {
     "name": "stdout",
     "output_type": "stream",
     "text": [
      "57\n"
     ]
    }
   ],
   "source": [
    "print(len(companies_todrop))"
   ]
  },
  {
   "cell_type": "code",
   "execution_count": 248,
   "metadata": {},
   "outputs": [],
   "source": [
    "#check number of null values\n",
    "total_null_values = dict(df[df.columns].isnull().sum())\n",
    "#for key,value in total_null_values.items():\n",
    "    #print(key, ':', value)"
   ]
  },
  {
   "cell_type": "code",
   "execution_count": 249,
   "metadata": {
    "scrolled": false
   },
   "outputs": [
    {
     "name": "stdout",
     "output_type": "stream",
     "text": [
      "DAILY_RETURN  :  0.6005043762053108\n",
      "PX_LAST  :  0.5647530040053405\n",
      "PE_RATIO  :  3.004153686396677\n",
      "FREE_CASH_FLOW_YIELD  :  1.4777481085892301\n",
      "PX_TO_BOOK_RATIO  :  2.029891707461801\n",
      "DVD_PAYOUT_RATIO  :  1.7051624388072986\n",
      "NET_DEBT_TO_EBITDA  :  8.00956831330663\n",
      "PROF_MARGIN  :  0.8881471591751965\n",
      "CURRENT_EV_TO_T12M_EBITDA  :  8.355436878801365\n",
      "RETURN_ON_INV_CAPITAL  :  1.0889333926717104\n",
      "RSI_14D  :  0.7136923305147604\n",
      "RSI_30D  :  0.7722889778964545\n",
      "MOV_AVG_50D  :  0.6568016614745587\n",
      "MOV_AVG_100D  :  0.7314938436433763\n",
      "MOV_AVG_200D  :  0.941774217475152\n",
      "RETURN_ON_ASSET  :  1.0522919448153094\n",
      "PX_TO_CASH_FLOW  :  1.6639964396973743\n",
      "PX_TO_SALES_RATIO  :  1.6191959649903573\n",
      "CAP_EXPEND_TO_SALES  :  3.374721851357365\n",
      "CASH_CONVERSION_CYCLE  :  31.797359442219253\n",
      "QUICK_RATIO  :  14.220293724966623\n",
      "TOT_DEBT_TO_TOT_EQY  :  1.4577214063195372\n"
     ]
    }
   ],
   "source": [
    "#return percentage of null values in the dataframe\n",
    "#remove attribute for all companies if percentage less than 70%\n",
    "percent_null = {}\n",
    "for attribute in range(0, att_number):\n",
    "    null_temp = 0\n",
    "    for i in range(attribute, df1.shape[1], att_number):\n",
    "        null_temp += df1.iloc[:, i].isnull().sum()\n",
    "    percent_null[df.columns[attribute][1]] = null_temp / (df.shape[0] * (df.shape[1] / att_number)) * 100\n",
    "for key, value in percent_null.items():\n",
    "    print(key, ' : ', value)"
   ]
  },
  {
   "cell_type": "markdown",
   "metadata": {},
   "source": [
    "quick ratio\n",
    "mov avg 200d\n",
    "net debt to ebitda\n",
    "px to cash flow\n",
    "current ev to 12m ebitda\n",
    "return on asset"
   ]
  },
  {
   "cell_type": "code",
   "execution_count": 250,
   "metadata": {},
   "outputs": [],
   "source": [
    "df2 = df1.drop(['CASH_CONVERSION_CYCLE','QUICK_RATIO','CURRENT_EV_TO_T12M_EBITDA'], level=1, axis=1, inplace=False)\n",
    "#dataframe becomes df2"
   ]
  },
  {
   "cell_type": "code",
   "execution_count": 251,
   "metadata": {},
   "outputs": [
    {
     "name": "stdout",
     "output_type": "stream",
     "text": [
      "21\n"
     ]
    }
   ],
   "source": [
    "print(len(att_name))"
   ]
  },
  {
   "cell_type": "code",
   "execution_count": 252,
   "metadata": {},
   "outputs": [],
   "source": [
    "att_name.remove('CASH_CONVERSION_CYCLE')\n",
    "att_name.remove('QUICK_RATIO')\n",
    "att_name.remove('CURRENT_EV_TO_T12M_EBITDA')"
   ]
  },
  {
   "cell_type": "code",
   "execution_count": null,
   "metadata": {},
   "outputs": [],
   "source": [
    "df2 = df2.groupby(pd.PeriodIndex(df2.index, freq='Q'), axis=0).transform(lambda x: x.fillna(x.mean()))"
   ]
  },
  {
   "cell_type": "code",
   "execution_count": null,
   "metadata": {},
   "outputs": [],
   "source": [
    "total_null_values = {}\n",
    "count = 0\n",
    "total_null_values = dict(df2[df2.columns].isnull().sum())\n",
    "for key,value in total_null_values.items():\n",
    "    if value != 0:\n",
    "        count += value\n",
    "        print(key, ' : ', value)"
   ]
  },
  {
   "cell_type": "code",
   "execution_count": null,
   "metadata": {},
   "outputs": [],
   "source": [
    "df2.drop('BRK/B UN Equity', level=0, axis=1, inplace=True)"
   ]
  },
  {
   "cell_type": "code",
   "execution_count": null,
   "metadata": {},
   "outputs": [],
   "source": [
    "company_list.remove('BRK/B UN Equity')"
   ]
  },
  {
   "cell_type": "code",
   "execution_count": null,
   "metadata": {},
   "outputs": [],
   "source": [
    "#return percentage of null values in the dataframe\n",
    "#remove attribute for all companies if percentage less than 70%\n",
    "percent_null2 = {}\n",
    "for attribute in range(0, att_number):\n",
    "    null_temp = 0\n",
    "    for i in range(attribute, df2.shape[1], att_number):\n",
    "        null_temp += df2.iloc[:, i].isnull().sum()\n",
    "    percent_null2[df.columns[attribute][1]] = null_temp / (df2.shape[0] * (df2.shape[1] / att_number)) * 100\n",
    "for key, value in percent_null2.items():\n",
    "    print(key, ' : ', value)"
   ]
  },
  {
   "cell_type": "code",
   "execution_count": null,
   "metadata": {},
   "outputs": [],
   "source": [
    "print(len(company_list))"
   ]
  },
  {
   "cell_type": "code",
   "execution_count": null,
   "metadata": {},
   "outputs": [],
   "source": [
    "print(att_name)\n",
    "print(len(att_name))"
   ]
  },
  {
   "cell_type": "code",
   "execution_count": null,
   "metadata": {},
   "outputs": [],
   "source": [
    "train_df = df2.iloc[:math.floor(df2.shape[0]/2),]\n",
    "test_df = df2.iloc[math.floor(df2.shape[0]/2):,]"
   ]
  },
  {
   "cell_type": "code",
   "execution_count": null,
   "metadata": {},
   "outputs": [],
   "source": [
    "daily_return = pd.DataFrame(train_df.iloc[:, train_df.columns.get_level_values(1)=='DAILY_RETURN'])\n",
    "daily_return = daily_return.transpose()\n",
    "daily_return = daily_return.droplevel(1)"
   ]
  },
  {
   "cell_type": "code",
   "execution_count": null,
   "metadata": {},
   "outputs": [],
   "source": [
    "pe_ratio = pd.DataFrame(train_df.iloc[:, train_df.columns.get_level_values(1)=='PE_RATIO'])\n",
    "pe_ratio = pe_ratio.transpose()\n",
    "pe_ratio = pe_ratio.droplevel(1)"
   ]
  },
  {
   "cell_type": "code",
   "execution_count": null,
   "metadata": {},
   "outputs": [],
   "source": [
    "free_cash_flow_yield = pd.DataFrame(train_df.iloc[:, train_df.columns.get_level_values(1)=='FREE_CASH_FLOW_YIELD'])\n",
    "free_cash_flow_yield = free_cash_flow_yield.transpose()\n",
    "free_cash_flow_yield = free_cash_flow_yield.droplevel(1)"
   ]
  },
  {
   "cell_type": "code",
   "execution_count": null,
   "metadata": {},
   "outputs": [],
   "source": [
    "px_to_book_ratio = pd.DataFrame(train_df.iloc[:, train_df.columns.get_level_values(1)=='PX_TO_BOOK_RATIO'])\n",
    "px_to_book_ratio = px_to_book_ratio.transpose()\n",
    "px_to_book_ratio = px_to_book_ratio.droplevel(1)"
   ]
  },
  {
   "cell_type": "code",
   "execution_count": null,
   "metadata": {},
   "outputs": [],
   "source": [
    "dvd_payout_ratio = pd.DataFrame(train_df.iloc[:, train_df.columns.get_level_values(1)=='DVD_PAYOUT_RATIO'])\n",
    "dvd_payout_ratio = dvd_payout_ratio.transpose()\n",
    "dvd_payout_ratio = dvd_payout_ratio.droplevel(1)"
   ]
  },
  {
   "cell_type": "code",
   "execution_count": null,
   "metadata": {},
   "outputs": [],
   "source": [
    "net_debt_to_ebitda = pd.DataFrame(train_df.iloc[:, train_df.columns.get_level_values(1)=='NET_DEBT_TO_EBITDA'])\n",
    "net_debt_to_ebitda = net_debt_to_ebitda.transpose()\n",
    "net_debt_to_ebitda = net_debt_to_ebitda.droplevel(1)"
   ]
  },
  {
   "cell_type": "code",
   "execution_count": null,
   "metadata": {},
   "outputs": [],
   "source": [
    "prof_margin = pd.DataFrame(train_df.iloc[:, train_df.columns.get_level_values(1)=='PROF_MARGIN'])\n",
    "prof_margin = prof_margin.transpose()\n",
    "prof_margin = prof_margin.droplevel(1)"
   ]
  },
  {
   "cell_type": "code",
   "execution_count": null,
   "metadata": {},
   "outputs": [],
   "source": [
    "return_on_inv_capital = pd.DataFrame(train_df.iloc[:, train_df.columns.get_level_values(1)=='RETURN_ON_INV_CAPITAL'])\n",
    "return_on_inv_capital = return_on_inv_capital.transpose()\n",
    "return_on_inv_capital = return_on_inv_capital.droplevel(1)"
   ]
  },
  {
   "cell_type": "code",
   "execution_count": null,
   "metadata": {},
   "outputs": [],
   "source": [
    "rsi_14d = pd.DataFrame(train_df.iloc[:, train_df.columns.get_level_values(1)=='RSI_14D'])\n",
    "rsi_14d = rsi_14d.transpose()\n",
    "rsi_14d = rsi_14d.droplevel(1)"
   ]
  },
  {
   "cell_type": "code",
   "execution_count": null,
   "metadata": {},
   "outputs": [],
   "source": [
    "rsi_30d = pd.DataFrame(train_df.iloc[:, train_df.columns.get_level_values(1)=='RSI_30D'])\n",
    "rsi_30d = rsi_30d.transpose()\n",
    "rsi_30d = rsi_30d.droplevel(1)"
   ]
  },
  {
   "cell_type": "code",
   "execution_count": null,
   "metadata": {},
   "outputs": [],
   "source": [
    "mov_avg_50d = pd.DataFrame(train_df.iloc[:, train_df.columns.get_level_values(1)=='MOV_AVG_50D'])\n",
    "mov_avg_50d = mov_avg_50d.transpose()\n",
    "mov_avg_50d = mov_avg_50d.droplevel(1)"
   ]
  },
  {
   "cell_type": "code",
   "execution_count": null,
   "metadata": {},
   "outputs": [],
   "source": [
    "mov_avg_100d = pd.DataFrame(train_df.iloc[:, train_df.columns.get_level_values(1)=='MOV_AVG_100D'])\n",
    "mov_avg_100d = mov_avg_100d.transpose()\n",
    "mov_avg_100d = mov_avg_100d.droplevel(1)"
   ]
  },
  {
   "cell_type": "code",
   "execution_count": null,
   "metadata": {},
   "outputs": [],
   "source": [
    "mov_avg_200d = pd.DataFrame(train_df.iloc[:, train_df.columns.get_level_values(1)=='MOV_AVG_200D'])\n",
    "mov_avg_200d = mov_avg_200d.transpose()\n",
    "mov_avg_200d = mov_avg_200d.droplevel(1)"
   ]
  },
  {
   "cell_type": "code",
   "execution_count": null,
   "metadata": {},
   "outputs": [],
   "source": [
    "return_on_asset = pd.DataFrame(train_df.iloc[:, train_df.columns.get_level_values(1)=='RETURN_ON_ASSET'])\n",
    "return_on_asset = return_on_asset.transpose()\n",
    "return_on_asset = return_on_asset.droplevel(1)"
   ]
  },
  {
   "cell_type": "code",
   "execution_count": null,
   "metadata": {},
   "outputs": [],
   "source": [
    "px_to_cash_flow = pd.DataFrame(train_df.iloc[:, train_df.columns.get_level_values(1)=='PX_TO_CASH_FLOW'])\n",
    "px_to_cash_flow = px_to_cash_flow.transpose()\n",
    "px_to_cash_flow = px_to_cash_flow.droplevel(1)"
   ]
  },
  {
   "cell_type": "code",
   "execution_count": null,
   "metadata": {},
   "outputs": [],
   "source": [
    "px_to_sales_ratio = pd.DataFrame(train_df.iloc[:, train_df.columns.get_level_values(1)=='PX_TO_SALES_RATIO'])\n",
    "px_to_sales_ratio = px_to_sales_ratio.transpose()\n",
    "px_to_sales_ratio = px_to_sales_ratio.droplevel(1)"
   ]
  },
  {
   "cell_type": "code",
   "execution_count": null,
   "metadata": {},
   "outputs": [],
   "source": [
    "cap_expend_to_sales = pd.DataFrame(train_df.iloc[:, train_df.columns.get_level_values(1)=='CAP_EXPEND_TO_SALES'])\n",
    "cap_expend_to_sales = cap_expend_to_sales.transpose()\n",
    "cap_expend_to_sales = cap_expend_to_sales.droplevel(1)"
   ]
  },
  {
   "cell_type": "code",
   "execution_count": null,
   "metadata": {},
   "outputs": [],
   "source": [
    "tot_debt_to_tot_eqy = pd.DataFrame(train_df.iloc[:, train_df.columns.get_level_values(1)=='TOT_DEBT_TO_TOT_EQY'])\n",
    "tot_debt_to_tot_eqy = tot_debt_to_tot_eqy.transpose()\n",
    "tot_debt_to_tot_eqy = tot_debt_to_tot_eqy.droplevel(1)"
   ]
  },
  {
   "cell_type": "code",
   "execution_count": null,
   "metadata": {},
   "outputs": [],
   "source": [
    "model = LinearRegression()"
   ]
  },
  {
   "cell_type": "code",
   "execution_count": null,
   "metadata": {},
   "outputs": [],
   "source": [
    "pe_ratio_alpha = []\n",
    "pe_ratio_beta = []\n",
    "for i in range(train_df.shape[0]):\n",
    "    regr_data = pd.DataFrame(data=[pe_ratio.iloc[:, i], daily_return.iloc[:, i]])\n",
    "    regr_data.dropna(axis=0)\n",
    "    model.fit(regr_data.iloc[:, 0].values.reshape(-1,1), regr_data.iloc[:, 1])\n",
    "    pe_ratio_alpha.append(model.intercept_)\n",
    "    pe_ratio_beta.append(model.coef_[0])\n",
    "print(mean(pe_ratio_alpha))\n",
    "print(mean(pe_ratio_beta))"
   ]
  },
  {
   "cell_type": "code",
   "execution_count": null,
   "metadata": {},
   "outputs": [],
   "source": [
    "free_cash_flow_yield_alpha = []\n",
    "free_cash_flow_yield_beta = []\n",
    "for i in range(train_df.shape[0]):\n",
    "    regr_data = pd.DataFrame(data=[free_cash_flow_yield.iloc[:, i], daily_return.iloc[:, i]])\n",
    "    regr_data.dropna(axis=0)\n",
    "    model.fit(regr_data.iloc[:, 0].values.reshape(-1,1), regr_data.iloc[:, 1])\n",
    "    free_cash_flow_yield_alpha.append(model.intercept_)\n",
    "    free_cash_flow_yield_beta.append(model.coef_[0])\n",
    "print(mean(free_cash_flow_yield_alpha))\n",
    "print(mean(free_cash_flow_yield_beta))"
   ]
  },
  {
   "cell_type": "code",
   "execution_count": null,
   "metadata": {},
   "outputs": [],
   "source": [
    "px_to_book_ratio_alpha = []\n",
    "px_to_book_ratio_beta = []\n",
    "for i in range(train_df.shape[0]):\n",
    "    regr_data = pd.DataFrame(data=[px_to_book_ratio.iloc[:, i], daily_return.iloc[:, i]])\n",
    "    regr_data.dropna(axis=0)\n",
    "    model.fit(regr_data.iloc[:, 0].values.reshape(-1,1), regr_data.iloc[:, 1])\n",
    "    px_to_book_ratio_alpha.append(model.intercept_)\n",
    "    px_to_book_ratio_beta.append(model.coef_[0])\n",
    "print(mean(px_to_book_ratio_alpha))\n",
    "print(mean(px_to_book_ratio_beta))"
   ]
  },
  {
   "cell_type": "code",
   "execution_count": null,
   "metadata": {},
   "outputs": [],
   "source": [
    "dvd_payout_ratio_alpha = []\n",
    "dvd_payout_ratio_beta = []\n",
    "for i in range(train_df.shape[0]):\n",
    "    regr_data = pd.DataFrame(data=[dvd_payout_ratio.iloc[:, i], daily_return.iloc[:, i]])\n",
    "    regr_data.dropna(axis=0)\n",
    "    model.fit(regr_data.iloc[:, 0].values.reshape(-1,1), regr_data.iloc[:, 1])\n",
    "    dvd_payout_ratio_alpha.append(model.intercept_)\n",
    "    dvd_payout_ratio_beta.append(model.coef_[0])\n",
    "print(mean(dvd_payout_ratio_alpha))\n",
    "print(mean(dvd_payout_ratio_beta))"
   ]
  },
  {
   "cell_type": "code",
   "execution_count": null,
   "metadata": {},
   "outputs": [],
   "source": [
    "net_debt_to_ebitda_alpha = []\n",
    "net_debt_to_ebitda_beta = []\n",
    "for i in range(train_df.shape[0]):\n",
    "    regr_data = pd.DataFrame(data=[net_debt_to_ebitda.iloc[:, i], daily_return.iloc[:, i]])\n",
    "    regr_data.dropna(axis=0)\n",
    "    model.fit(regr_data.iloc[:, 0].values.reshape(-1,1), regr_data.iloc[:, 1])\n",
    "    net_debt_to_ebitda_alpha.append(model.intercept_)\n",
    "    net_debt_to_ebitda_beta.append(model.coef_[0])\n",
    "print(mean(net_debt_to_ebitda_alpha))\n",
    "print(mean(net_debt_to_ebitda_beta))"
   ]
  },
  {
   "cell_type": "code",
   "execution_count": null,
   "metadata": {},
   "outputs": [],
   "source": [
    "prof_margin_alpha = []\n",
    "prof_margin_beta = []\n",
    "for i in range(train_df.shape[0]):\n",
    "    regr_data = pd.DataFrame(data=[prof_margin.iloc[:, i], daily_return.iloc[:, i]])\n",
    "    regr_data.dropna(axis=0)\n",
    "    model.fit(regr_data.iloc[:, 0].values.reshape(-1,1), regr_data.iloc[:, 1])\n",
    "    prof_margin_alpha.append(model.intercept_)\n",
    "    prof_margin_beta.append(model.coef_[0])\n",
    "print(mean(prof_margin_alpha))\n",
    "print(mean(prof_margin_beta))"
   ]
  },
  {
   "cell_type": "code",
   "execution_count": null,
   "metadata": {},
   "outputs": [],
   "source": [
    "return_on_inv_capital_alpha = []\n",
    "return_on_inv_capital_beta = []\n",
    "for i in range(train_df.shape[0]):\n",
    "    regr_data = pd.DataFrame(data=[return_on_inv_capital.iloc[:, i], daily_return.iloc[:, i]])\n",
    "    regr_data.dropna(axis=0)\n",
    "    model.fit(regr_data.iloc[:, 0].values.reshape(-1,1), regr_data.iloc[:, 1])\n",
    "    return_on_inv_capital_alpha.append(model.intercept_)\n",
    "    return_on_inv_capital_beta.append(model.coef_[0])\n",
    "print(mean(return_on_inv_capital_alpha))\n",
    "print(mean(return_on_inv_capital_beta))"
   ]
  },
  {
   "cell_type": "code",
   "execution_count": null,
   "metadata": {},
   "outputs": [],
   "source": [
    "rsi_14d_alpha = []\n",
    "rsi_14d_beta = []\n",
    "for i in range(train_df.shape[0]):\n",
    "    regr_data = pd.DataFrame(data=[rsi_14d.iloc[:, i], daily_return.iloc[:, i]])\n",
    "    regr_data.dropna(axis=0)\n",
    "    model.fit(regr_data.iloc[:, 0].values.reshape(-1,1), regr_data.iloc[:, 1])\n",
    "    rsi_14d_alpha.append(model.intercept_)\n",
    "    rsi_14d_beta.append(model.coef_[0])\n",
    "print(mean(rsi_14d_alpha))\n",
    "print(mean(rsi_14d_beta))"
   ]
  },
  {
   "cell_type": "code",
   "execution_count": null,
   "metadata": {},
   "outputs": [],
   "source": [
    "rsi_30d_alpha = []\n",
    "rsi_30d_beta = []\n",
    "for i in range(train_df.shape[0]):\n",
    "    regr_data = pd.DataFrame(data=[rsi_30d.iloc[:, i], daily_return.iloc[:, i]])\n",
    "    regr_data.dropna(axis=0)\n",
    "    model.fit(regr_data.iloc[:, 0].values.reshape(-1,1), regr_data.iloc[:, 1])\n",
    "    rsi_30d_alpha.append(model.intercept_)\n",
    "    rsi_30d_beta.append(model.coef_[0])\n",
    "print(mean(rsi_30d_alpha))\n",
    "print(mean(rsi_30d_beta))"
   ]
  },
  {
   "cell_type": "code",
   "execution_count": null,
   "metadata": {},
   "outputs": [],
   "source": [
    "mov_avg_50d_alpha = []\n",
    "mov_avg_50d_beta = []\n",
    "for i in range(train_df.shape[0]):\n",
    "    regr_data = pd.DataFrame(data=[mov_avg_50d.iloc[:, i], daily_return.iloc[:, i]])\n",
    "    regr_data.dropna(axis=0)\n",
    "    model.fit(regr_data.iloc[:, 0].values.reshape(-1,1), regr_data.iloc[:, 1])\n",
    "    mov_avg_50d_alpha.append(model.intercept_)\n",
    "    mov_avg_50d_beta.append(model.coef_[0])\n",
    "print(mean(mov_avg_50d_alpha))\n",
    "print(mean(mov_avg_50d_beta))"
   ]
  },
  {
   "cell_type": "code",
   "execution_count": null,
   "metadata": {},
   "outputs": [],
   "source": [
    "mov_avg_100d_alpha = []\n",
    "mov_avg_100d_beta = []\n",
    "for i in range(train_df.shape[0]):\n",
    "    regr_data = pd.DataFrame(data=[mov_avg_100d.iloc[:, i], daily_return.iloc[:, i]])\n",
    "    regr_data.dropna(axis=0)\n",
    "    model.fit(regr_data.iloc[:, 0].values.reshape(-1,1), regr_data.iloc[:, 1])\n",
    "    mov_avg_100d_alpha.append(model.intercept_)\n",
    "    mov_avg_100d_beta.append(model.coef_[0])\n",
    "print(mean(mov_avg_100d_alpha))\n",
    "print(mean(mov_avg_100d_beta))"
   ]
  },
  {
   "cell_type": "code",
   "execution_count": null,
   "metadata": {},
   "outputs": [],
   "source": [
    "mov_avg_200d_alpha = []\n",
    "mov_avg_200d_beta = []\n",
    "for i in range(train_df.shape[0]):\n",
    "    regr_data = pd.DataFrame(data=[mov_avg_200d.iloc[:, i], daily_return.iloc[:, i]])\n",
    "    regr_data.dropna(axis=0)\n",
    "    model.fit(regr_data.iloc[:, 0].values.reshape(-1,1), regr_data.iloc[:, 1])\n",
    "    mov_avg_200d_alpha.append(model.intercept_)\n",
    "    mov_avg_200d_beta.append(model.coef_[0])\n",
    "print(mean(mov_avg_200d_alpha))\n",
    "print(mean(mov_avg_200d_beta))"
   ]
  },
  {
   "cell_type": "code",
   "execution_count": null,
   "metadata": {},
   "outputs": [],
   "source": [
    "return_on_asset_alpha = []\n",
    "return_on_asset_beta = []\n",
    "for i in range(train_df.shape[0]):\n",
    "    regr_data = pd.DataFrame(data=[return_on_asset.iloc[:, i], daily_return.iloc[:, i]])\n",
    "    regr_data.dropna(axis=0)\n",
    "    model.fit(regr_data.iloc[:, 0].values.reshape(-1,1), regr_data.iloc[:, 1])\n",
    "    return_on_asset_alpha.append(model.intercept_)\n",
    "    return_on_asset_beta.append(model.coef_[0])\n",
    "print(mean(return_on_asset_alpha))\n",
    "print(mean(return_on_asset_beta))"
   ]
  },
  {
   "cell_type": "code",
   "execution_count": null,
   "metadata": {},
   "outputs": [],
   "source": [
    "px_to_cash_flow_alpha = []\n",
    "px_to_cash_flow_beta = []\n",
    "for i in range(train_df.shape[0]):\n",
    "    regr_data = pd.DataFrame(data=[px_to_cash_flow.iloc[:, i], daily_return.iloc[:, i]])\n",
    "    regr_data.dropna(axis=0)\n",
    "    model.fit(regr_data.iloc[:, 0].values.reshape(-1,1), regr_data.iloc[:, 1])\n",
    "    px_to_cash_flow_alpha.append(model.intercept_)\n",
    "    px_to_cash_flow_beta.append(model.coef_[0])\n",
    "print(mean(px_to_cash_flow_alpha))\n",
    "print(mean(px_to_cash_flow_beta))"
   ]
  },
  {
   "cell_type": "code",
   "execution_count": null,
   "metadata": {},
   "outputs": [],
   "source": [
    "px_to_sales_ratio_alpha = []\n",
    "px_to_sales_ratio_beta = []\n",
    "for i in range(train_df.shape[0]):\n",
    "    regr_data = pd.DataFrame(data=[px_to_sales_ratio.iloc[:, i], daily_return.iloc[:, i]])\n",
    "    regr_data.dropna(axis=0)\n",
    "    model.fit(regr_data.iloc[:, 0].values.reshape(-1,1), regr_data.iloc[:, 1])\n",
    "    px_to_sales_ratio_alpha.append(model.intercept_)\n",
    "    px_to_sales_ratio_beta.append(model.coef_[0])\n",
    "print(mean(px_to_sales_ratio_alpha))\n",
    "print(mean(px_to_sales_ratio_beta))"
   ]
  },
  {
   "cell_type": "code",
   "execution_count": null,
   "metadata": {},
   "outputs": [],
   "source": [
    "cap_expend_to_sales_alpha = []\n",
    "cap_expend_to_sales_beta = []\n",
    "for i in range(train_df.shape[0]):\n",
    "    regr_data = pd.DataFrame(data=[cap_expend_to_sales.iloc[:, i], daily_return.iloc[:, i]])\n",
    "    regr_data.dropna(axis=0)\n",
    "    model.fit(regr_data.iloc[:, 0].values.reshape(-1,1), regr_data.iloc[:, 1])\n",
    "    cap_expend_to_sales_alpha.append(model.intercept_)\n",
    "    cap_expend_to_sales_beta.append(model.coef_[0])\n",
    "print(mean(cap_expend_to_sales_alpha))\n",
    "print(mean(cap_expend_to_sales_beta))"
   ]
  },
  {
   "cell_type": "code",
   "execution_count": null,
   "metadata": {},
   "outputs": [],
   "source": [
    "tot_debt_to_tot_eqy_alpha = []\n",
    "tot_debt_to_tot_eqy_beta = []\n",
    "for i in range(train_df.shape[0]):\n",
    "    regr_data = pd.DataFrame(data=[tot_debt_to_tot_eqy.iloc[:, i], daily_return.iloc[:, i]])\n",
    "    regr_data.dropna(axis=0)\n",
    "    model.fit(regr_data.iloc[:, 0].values.reshape(-1,1), regr_data.iloc[:, 1])\n",
    "    tot_debt_to_tot_eqy_alpha.append(model.intercept_)\n",
    "    tot_debt_to_tot_eqy_beta.append(model.coef_[0])\n",
    "print(mean(tot_debt_to_tot_eqy_alpha))\n",
    "print(mean(tot_debt_to_tot_eqy_beta))"
   ]
  }
 ],
 "metadata": {
  "kernelspec": {
   "display_name": "Python 3",
   "language": "python",
   "name": "python3"
  },
  "language_info": {
   "codemirror_mode": {
    "name": "ipython",
    "version": 3
   },
   "file_extension": ".py",
   "mimetype": "text/x-python",
   "name": "python",
   "nbconvert_exporter": "python",
   "pygments_lexer": "ipython3",
   "version": "3.8.5"
  }
 },
 "nbformat": 4,
 "nbformat_minor": 4
}

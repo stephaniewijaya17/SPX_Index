{
 "cells": [
  {
   "cell_type": "code",
   "execution_count": 123,
   "metadata": {},
   "outputs": [],
   "source": [
    "import pandas as pd\n",
    "import numpy as np\n",
    "import math\n",
    "import matplotlib.pyplot as plt\n",
    "import seaborn as sns\n",
    "import statistics\n",
    "from statistics import mean\n",
    "from scipy import stats\n",
    "from sklearn.linear_model import LinearRegression\n",
    "from sklearn.model_selection import train_test_split"
   ]
  },
  {
   "cell_type": "code",
   "execution_count": 23,
   "metadata": {},
   "outputs": [],
   "source": [
    "df = pd.read_csv('SPX Index.csv', header=[0,1], index_col = 0)"
   ]
  },
  {
   "cell_type": "code",
   "execution_count": 24,
   "metadata": {},
   "outputs": [
    {
     "name": "stdout",
     "output_type": "stream",
     "text": [
      "21\n"
     ]
    }
   ],
   "source": [
    "#count number of attributes --> att_number\n",
    "first_attribute = df.columns[0][1]\n",
    "att_number = 1\n",
    "att_name = []\n",
    "for col in df.columns[1:]:\n",
    "    if (col[1] != first_attribute):\n",
    "        att_number += 1\n",
    "        att_name.append(col[1])\n",
    "    else:\n",
    "        break\n",
    "print(att_number)"
   ]
  },
  {
   "cell_type": "code",
   "execution_count": 4,
   "metadata": {},
   "outputs": [],
   "source": [
    "#change level 0 row name from unnamed to company name\n",
    "count = 2\n",
    "company_list = []\n",
    "for company in df.columns[::att_number]:\n",
    "    company_list.append(company[0])\n",
    "    for i in range(att_number):\n",
    "        df.rename(columns={'Unnamed: {}_level_0'.format(count): company[0]}, inplace=True)\n",
    "        count += 1"
   ]
  },
  {
   "cell_type": "code",
   "execution_count": 5,
   "metadata": {},
   "outputs": [
    {
     "name": "stdout",
     "output_type": "stream",
     "text": [
      "505\n"
     ]
    }
   ],
   "source": [
    "print(len(company_list))"
   ]
  },
  {
   "cell_type": "code",
   "execution_count": 6,
   "metadata": {
    "scrolled": true
   },
   "outputs": [],
   "source": [
    "df.index = pd.to_datetime(df.index)"
   ]
  },
  {
   "cell_type": "code",
   "execution_count": 7,
   "metadata": {},
   "outputs": [],
   "source": [
    "te = df.copy()"
   ]
  },
  {
   "cell_type": "code",
   "execution_count": 58,
   "metadata": {},
   "outputs": [],
   "source": [
    "df = te.copy()"
   ]
  },
  {
   "cell_type": "code",
   "execution_count": 59,
   "metadata": {},
   "outputs": [],
   "source": [
    "for i in range(0, df.shape[1] + len(company_list), att_number+1): #account for adding DAILY_RETURN\n",
    "    values = df[(df.columns[i][0], 'PX_LAST')].pct_change()\n",
    "    df.insert(i, (df.columns[i][0],'DAILY_RETURN'), values)\n",
    "att_number += 1 #DAILY_RETURN added to each company\n",
    "df = df[1:] #drop first row"
   ]
  },
  {
   "cell_type": "code",
   "execution_count": 60,
   "metadata": {},
   "outputs": [
    {
     "data": {
      "text/html": [
       "<div>\n",
       "<style scoped>\n",
       "    .dataframe tbody tr th:only-of-type {\n",
       "        vertical-align: middle;\n",
       "    }\n",
       "\n",
       "    .dataframe tbody tr th {\n",
       "        vertical-align: top;\n",
       "    }\n",
       "\n",
       "    .dataframe thead tr th {\n",
       "        text-align: left;\n",
       "    }\n",
       "</style>\n",
       "<table border=\"1\" class=\"dataframe\">\n",
       "  <thead>\n",
       "    <tr>\n",
       "      <th></th>\n",
       "      <th colspan=\"10\" halign=\"left\">A UN Equity</th>\n",
       "      <th>...</th>\n",
       "      <th colspan=\"10\" halign=\"left\">ZTS UN Equity</th>\n",
       "    </tr>\n",
       "    <tr>\n",
       "      <th>Dates</th>\n",
       "      <th>DAILY_RETURN</th>\n",
       "      <th>PX_LAST</th>\n",
       "      <th>PE_RATIO</th>\n",
       "      <th>FREE_CASH_FLOW_YIELD</th>\n",
       "      <th>PX_TO_BOOK_RATIO</th>\n",
       "      <th>DVD_PAYOUT_RATIO</th>\n",
       "      <th>NET_DEBT_TO_EBITDA</th>\n",
       "      <th>PROF_MARGIN</th>\n",
       "      <th>CURRENT_EV_TO_T12M_EBITDA</th>\n",
       "      <th>RETURN_ON_INV_CAPITAL</th>\n",
       "      <th>...</th>\n",
       "      <th>MOV_AVG_50D</th>\n",
       "      <th>MOV_AVG_100D</th>\n",
       "      <th>MOV_AVG_200D</th>\n",
       "      <th>RETURN_ON_ASSET</th>\n",
       "      <th>PX_TO_CASH_FLOW</th>\n",
       "      <th>PX_TO_SALES_RATIO</th>\n",
       "      <th>CAP_EXPEND_TO_SALES</th>\n",
       "      <th>CASH_CONVERSION_CYCLE</th>\n",
       "      <th>QUICK_RATIO</th>\n",
       "      <th>TOT_DEBT_TO_TOT_EQY</th>\n",
       "    </tr>\n",
       "  </thead>\n",
       "  <tbody>\n",
       "    <tr>\n",
       "      <th>2011-03-01</th>\n",
       "      <td>0.010862</td>\n",
       "      <td>29.9478</td>\n",
       "      <td>12.7400</td>\n",
       "      <td>5.7005</td>\n",
       "      <td>3.2100</td>\n",
       "      <td>NaN</td>\n",
       "      <td>NaN</td>\n",
       "      <td>NaN</td>\n",
       "      <td>20.3225</td>\n",
       "      <td>NaN</td>\n",
       "      <td>...</td>\n",
       "      <td>NaN</td>\n",
       "      <td>NaN</td>\n",
       "      <td>NaN</td>\n",
       "      <td>NaN</td>\n",
       "      <td>NaN</td>\n",
       "      <td>NaN</td>\n",
       "      <td>NaN</td>\n",
       "      <td>NaN</td>\n",
       "      <td>NaN</td>\n",
       "      <td>NaN</td>\n",
       "    </tr>\n",
       "    <tr>\n",
       "      <th>2011-04-01</th>\n",
       "      <td>-0.009310</td>\n",
       "      <td>29.6690</td>\n",
       "      <td>12.6214</td>\n",
       "      <td>5.7541</td>\n",
       "      <td>3.1801</td>\n",
       "      <td>NaN</td>\n",
       "      <td>NaN</td>\n",
       "      <td>NaN</td>\n",
       "      <td>20.1460</td>\n",
       "      <td>NaN</td>\n",
       "      <td>...</td>\n",
       "      <td>NaN</td>\n",
       "      <td>NaN</td>\n",
       "      <td>NaN</td>\n",
       "      <td>NaN</td>\n",
       "      <td>NaN</td>\n",
       "      <td>NaN</td>\n",
       "      <td>NaN</td>\n",
       "      <td>NaN</td>\n",
       "      <td>NaN</td>\n",
       "      <td>NaN</td>\n",
       "    </tr>\n",
       "    <tr>\n",
       "      <th>2011-05-01</th>\n",
       "      <td>-0.002171</td>\n",
       "      <td>29.6046</td>\n",
       "      <td>12.5940</td>\n",
       "      <td>5.7666</td>\n",
       "      <td>3.1732</td>\n",
       "      <td>NaN</td>\n",
       "      <td>NaN</td>\n",
       "      <td>NaN</td>\n",
       "      <td>20.1052</td>\n",
       "      <td>NaN</td>\n",
       "      <td>...</td>\n",
       "      <td>NaN</td>\n",
       "      <td>NaN</td>\n",
       "      <td>NaN</td>\n",
       "      <td>NaN</td>\n",
       "      <td>NaN</td>\n",
       "      <td>NaN</td>\n",
       "      <td>NaN</td>\n",
       "      <td>NaN</td>\n",
       "      <td>NaN</td>\n",
       "      <td>NaN</td>\n",
       "    </tr>\n",
       "    <tr>\n",
       "      <th>2011-06-01</th>\n",
       "      <td>0.001932</td>\n",
       "      <td>29.6618</td>\n",
       "      <td>12.6183</td>\n",
       "      <td>5.7555</td>\n",
       "      <td>3.1794</td>\n",
       "      <td>NaN</td>\n",
       "      <td>NaN</td>\n",
       "      <td>NaN</td>\n",
       "      <td>20.1414</td>\n",
       "      <td>NaN</td>\n",
       "      <td>...</td>\n",
       "      <td>NaN</td>\n",
       "      <td>NaN</td>\n",
       "      <td>NaN</td>\n",
       "      <td>NaN</td>\n",
       "      <td>NaN</td>\n",
       "      <td>NaN</td>\n",
       "      <td>NaN</td>\n",
       "      <td>NaN</td>\n",
       "      <td>NaN</td>\n",
       "      <td>NaN</td>\n",
       "    </tr>\n",
       "    <tr>\n",
       "      <th>2011-07-01</th>\n",
       "      <td>0.003375</td>\n",
       "      <td>29.7619</td>\n",
       "      <td>12.6609</td>\n",
       "      <td>5.7361</td>\n",
       "      <td>3.1901</td>\n",
       "      <td>NaN</td>\n",
       "      <td>NaN</td>\n",
       "      <td>NaN</td>\n",
       "      <td>20.2048</td>\n",
       "      <td>NaN</td>\n",
       "      <td>...</td>\n",
       "      <td>NaN</td>\n",
       "      <td>NaN</td>\n",
       "      <td>NaN</td>\n",
       "      <td>NaN</td>\n",
       "      <td>NaN</td>\n",
       "      <td>NaN</td>\n",
       "      <td>NaN</td>\n",
       "      <td>NaN</td>\n",
       "      <td>NaN</td>\n",
       "      <td>NaN</td>\n",
       "    </tr>\n",
       "    <tr>\n",
       "      <th>...</th>\n",
       "      <td>...</td>\n",
       "      <td>...</td>\n",
       "      <td>...</td>\n",
       "      <td>...</td>\n",
       "      <td>...</td>\n",
       "      <td>...</td>\n",
       "      <td>...</td>\n",
       "      <td>...</td>\n",
       "      <td>...</td>\n",
       "      <td>...</td>\n",
       "      <td>...</td>\n",
       "      <td>...</td>\n",
       "      <td>...</td>\n",
       "      <td>...</td>\n",
       "      <td>...</td>\n",
       "      <td>...</td>\n",
       "      <td>...</td>\n",
       "      <td>...</td>\n",
       "      <td>...</td>\n",
       "      <td>...</td>\n",
       "      <td>...</td>\n",
       "    </tr>\n",
       "    <tr>\n",
       "      <th>2021-03-29</th>\n",
       "      <td>-0.001751</td>\n",
       "      <td>125.4200</td>\n",
       "      <td>42.9639</td>\n",
       "      <td>2.8256</td>\n",
       "      <td>7.9628</td>\n",
       "      <td>19.125</td>\n",
       "      <td>1.0338</td>\n",
       "      <td>18.6047</td>\n",
       "      <td>30.3849</td>\n",
       "      <td>11.1135</td>\n",
       "      <td>...</td>\n",
       "      <td>157.2252</td>\n",
       "      <td>160.2180</td>\n",
       "      <td>156.7708</td>\n",
       "      <td>13.0238</td>\n",
       "      <td>35.4263</td>\n",
       "      <td>11.2831</td>\n",
       "      <td>8.4117</td>\n",
       "      <td>266.8466</td>\n",
       "      <td>2.1276</td>\n",
       "      <td>196.1834</td>\n",
       "    </tr>\n",
       "    <tr>\n",
       "      <th>2021-03-30</th>\n",
       "      <td>-0.004624</td>\n",
       "      <td>124.8400</td>\n",
       "      <td>42.7652</td>\n",
       "      <td>2.8388</td>\n",
       "      <td>7.9259</td>\n",
       "      <td>19.125</td>\n",
       "      <td>1.0338</td>\n",
       "      <td>18.6047</td>\n",
       "      <td>30.2492</td>\n",
       "      <td>11.1135</td>\n",
       "      <td>...</td>\n",
       "      <td>157.1348</td>\n",
       "      <td>160.1570</td>\n",
       "      <td>156.8857</td>\n",
       "      <td>13.0238</td>\n",
       "      <td>35.1243</td>\n",
       "      <td>11.1870</td>\n",
       "      <td>8.4117</td>\n",
       "      <td>266.8466</td>\n",
       "      <td>2.1276</td>\n",
       "      <td>196.1834</td>\n",
       "    </tr>\n",
       "    <tr>\n",
       "      <th>2021-03-31</th>\n",
       "      <td>0.018424</td>\n",
       "      <td>127.1400</td>\n",
       "      <td>43.5531</td>\n",
       "      <td>2.7874</td>\n",
       "      <td>8.0720</td>\n",
       "      <td>19.125</td>\n",
       "      <td>1.0338</td>\n",
       "      <td>18.6047</td>\n",
       "      <td>30.7874</td>\n",
       "      <td>11.1135</td>\n",
       "      <td>...</td>\n",
       "      <td>157.0330</td>\n",
       "      <td>159.9883</td>\n",
       "      <td>157.0066</td>\n",
       "      <td>13.0238</td>\n",
       "      <td>35.2228</td>\n",
       "      <td>11.2183</td>\n",
       "      <td>8.4117</td>\n",
       "      <td>266.8466</td>\n",
       "      <td>2.1276</td>\n",
       "      <td>196.1834</td>\n",
       "    </tr>\n",
       "    <tr>\n",
       "      <th>2021-01-04</th>\n",
       "      <td>0.004326</td>\n",
       "      <td>127.6900</td>\n",
       "      <td>43.7415</td>\n",
       "      <td>2.7754</td>\n",
       "      <td>8.1069</td>\n",
       "      <td>19.125</td>\n",
       "      <td>1.0338</td>\n",
       "      <td>18.6047</td>\n",
       "      <td>30.9161</td>\n",
       "      <td>11.1135</td>\n",
       "      <td>...</td>\n",
       "      <td>156.9236</td>\n",
       "      <td>159.8582</td>\n",
       "      <td>157.1148</td>\n",
       "      <td>13.0238</td>\n",
       "      <td>35.3145</td>\n",
       "      <td>11.2475</td>\n",
       "      <td>8.4117</td>\n",
       "      <td>266.8466</td>\n",
       "      <td>2.1276</td>\n",
       "      <td>196.1834</td>\n",
       "    </tr>\n",
       "    <tr>\n",
       "      <th>2021-02-04</th>\n",
       "      <td>0.000000</td>\n",
       "      <td>127.6900</td>\n",
       "      <td>43.7415</td>\n",
       "      <td>2.7754</td>\n",
       "      <td>8.1069</td>\n",
       "      <td>19.125</td>\n",
       "      <td>1.0338</td>\n",
       "      <td>18.6047</td>\n",
       "      <td>30.9161</td>\n",
       "      <td>11.1135</td>\n",
       "      <td>...</td>\n",
       "      <td>156.9236</td>\n",
       "      <td>159.8582</td>\n",
       "      <td>157.1148</td>\n",
       "      <td>13.0238</td>\n",
       "      <td>35.3145</td>\n",
       "      <td>11.2475</td>\n",
       "      <td>8.4117</td>\n",
       "      <td>266.8466</td>\n",
       "      <td>2.1276</td>\n",
       "      <td>196.1834</td>\n",
       "    </tr>\n",
       "  </tbody>\n",
       "</table>\n",
       "<p>2675 rows × 11110 columns</p>\n",
       "</div>"
      ],
      "text/plain": [
       "            A UN Equity                                          \\\n",
       "Dates      DAILY_RETURN   PX_LAST PE_RATIO FREE_CASH_FLOW_YIELD   \n",
       "2011-03-01     0.010862   29.9478  12.7400               5.7005   \n",
       "2011-04-01    -0.009310   29.6690  12.6214               5.7541   \n",
       "2011-05-01    -0.002171   29.6046  12.5940               5.7666   \n",
       "2011-06-01     0.001932   29.6618  12.6183               5.7555   \n",
       "2011-07-01     0.003375   29.7619  12.6609               5.7361   \n",
       "...                 ...       ...      ...                  ...   \n",
       "2021-03-29    -0.001751  125.4200  42.9639               2.8256   \n",
       "2021-03-30    -0.004624  124.8400  42.7652               2.8388   \n",
       "2021-03-31     0.018424  127.1400  43.5531               2.7874   \n",
       "2021-01-04     0.004326  127.6900  43.7415               2.7754   \n",
       "2021-02-04     0.000000  127.6900  43.7415               2.7754   \n",
       "\n",
       "                                                                             \\\n",
       "Dates      PX_TO_BOOK_RATIO DVD_PAYOUT_RATIO NET_DEBT_TO_EBITDA PROF_MARGIN   \n",
       "2011-03-01           3.2100              NaN                NaN         NaN   \n",
       "2011-04-01           3.1801              NaN                NaN         NaN   \n",
       "2011-05-01           3.1732              NaN                NaN         NaN   \n",
       "2011-06-01           3.1794              NaN                NaN         NaN   \n",
       "2011-07-01           3.1901              NaN                NaN         NaN   \n",
       "...                     ...              ...                ...         ...   \n",
       "2021-03-29           7.9628           19.125             1.0338     18.6047   \n",
       "2021-03-30           7.9259           19.125             1.0338     18.6047   \n",
       "2021-03-31           8.0720           19.125             1.0338     18.6047   \n",
       "2021-01-04           8.1069           19.125             1.0338     18.6047   \n",
       "2021-02-04           8.1069           19.125             1.0338     18.6047   \n",
       "\n",
       "                                                            ... ZTS UN Equity  \\\n",
       "Dates      CURRENT_EV_TO_T12M_EBITDA RETURN_ON_INV_CAPITAL  ...   MOV_AVG_50D   \n",
       "2011-03-01                   20.3225                   NaN  ...           NaN   \n",
       "2011-04-01                   20.1460                   NaN  ...           NaN   \n",
       "2011-05-01                   20.1052                   NaN  ...           NaN   \n",
       "2011-06-01                   20.1414                   NaN  ...           NaN   \n",
       "2011-07-01                   20.2048                   NaN  ...           NaN   \n",
       "...                              ...                   ...  ...           ...   \n",
       "2021-03-29                   30.3849               11.1135  ...      157.2252   \n",
       "2021-03-30                   30.2492               11.1135  ...      157.1348   \n",
       "2021-03-31                   30.7874               11.1135  ...      157.0330   \n",
       "2021-01-04                   30.9161               11.1135  ...      156.9236   \n",
       "2021-02-04                   30.9161               11.1135  ...      156.9236   \n",
       "\n",
       "                                                                      \\\n",
       "Dates      MOV_AVG_100D MOV_AVG_200D RETURN_ON_ASSET PX_TO_CASH_FLOW   \n",
       "2011-03-01          NaN          NaN             NaN             NaN   \n",
       "2011-04-01          NaN          NaN             NaN             NaN   \n",
       "2011-05-01          NaN          NaN             NaN             NaN   \n",
       "2011-06-01          NaN          NaN             NaN             NaN   \n",
       "2011-07-01          NaN          NaN             NaN             NaN   \n",
       "...                 ...          ...             ...             ...   \n",
       "2021-03-29     160.2180     156.7708         13.0238         35.4263   \n",
       "2021-03-30     160.1570     156.8857         13.0238         35.1243   \n",
       "2021-03-31     159.9883     157.0066         13.0238         35.2228   \n",
       "2021-01-04     159.8582     157.1148         13.0238         35.3145   \n",
       "2021-02-04     159.8582     157.1148         13.0238         35.3145   \n",
       "\n",
       "                                                                        \\\n",
       "Dates      PX_TO_SALES_RATIO CAP_EXPEND_TO_SALES CASH_CONVERSION_CYCLE   \n",
       "2011-03-01               NaN                 NaN                   NaN   \n",
       "2011-04-01               NaN                 NaN                   NaN   \n",
       "2011-05-01               NaN                 NaN                   NaN   \n",
       "2011-06-01               NaN                 NaN                   NaN   \n",
       "2011-07-01               NaN                 NaN                   NaN   \n",
       "...                      ...                 ...                   ...   \n",
       "2021-03-29           11.2831              8.4117              266.8466   \n",
       "2021-03-30           11.1870              8.4117              266.8466   \n",
       "2021-03-31           11.2183              8.4117              266.8466   \n",
       "2021-01-04           11.2475              8.4117              266.8466   \n",
       "2021-02-04           11.2475              8.4117              266.8466   \n",
       "\n",
       "                                            \n",
       "Dates      QUICK_RATIO TOT_DEBT_TO_TOT_EQY  \n",
       "2011-03-01         NaN                 NaN  \n",
       "2011-04-01         NaN                 NaN  \n",
       "2011-05-01         NaN                 NaN  \n",
       "2011-06-01         NaN                 NaN  \n",
       "2011-07-01         NaN                 NaN  \n",
       "...                ...                 ...  \n",
       "2021-03-29      2.1276            196.1834  \n",
       "2021-03-30      2.1276            196.1834  \n",
       "2021-03-31      2.1276            196.1834  \n",
       "2021-01-04      2.1276            196.1834  \n",
       "2021-02-04      2.1276            196.1834  \n",
       "\n",
       "[2675 rows x 11110 columns]"
      ]
     },
     "execution_count": 60,
     "metadata": {},
     "output_type": "execute_result"
    }
   ],
   "source": [
    "df"
   ]
  },
  {
   "cell_type": "code",
   "execution_count": 61,
   "metadata": {},
   "outputs": [],
   "source": [
    "att_name.insert(0, 'DAILY_RETURN')"
   ]
  },
  {
   "cell_type": "code",
   "execution_count": 62,
   "metadata": {},
   "outputs": [
    {
     "name": "stdout",
     "output_type": "stream",
     "text": [
      "22\n"
     ]
    }
   ],
   "source": [
    "print(len(att_name))"
   ]
  },
  {
   "cell_type": "code",
   "execution_count": 63,
   "metadata": {},
   "outputs": [],
   "source": [
    "#check for first non-null value in each company, i = PX_LAST\n",
    "dict_startrow = {}\n",
    "for i in range(0,df.shape[1], att_number):\n",
    "    dict_startrow[df.columns[i][0]] = df.iloc[:,i].first_valid_index()\n",
    "    #print(df.columns[i][0], dict_startrow[df.columns[i][0]])"
   ]
  },
  {
   "cell_type": "code",
   "execution_count": 64,
   "metadata": {},
   "outputs": [
    {
     "name": "stdout",
     "output_type": "stream",
     "text": [
      "['AAL UW Equity', 'AEP UW Equity', 'ALLE UN Equity', 'AMCR UN Equity', 'AMD UW Equity', 'ANET UN Equity', 'APA UW Equity', 'CARR UN Equity', 'CDW UW Equity', 'CFG UN Equity', 'CSX UW Equity', 'CTLT UN Equity', 'CTVA UN Equity', 'CZR UW Equity', 'DOW UN Equity', 'DXC UN Equity', 'ETSY UW Equity', 'EXC UW Equity', 'FOX UW Equity', 'FOXA UW Equity', 'FTV UN Equity', 'GOOG UW Equity', 'HLT UN Equity', 'HPE UN Equity', 'HST UW Equity', 'HWM UN Equity', 'INFO UN Equity', 'IQV UN Equity', 'IR UN Equity', 'KEYS UN Equity', 'KHC UW Equity', 'LNT UW Equity', 'LW UN Equity', 'MAR UW Equity', 'NCLH UN Equity', 'NWL UW Equity', 'NWS UW Equity', 'NWSA UW Equity', 'ORCL UN Equity', 'OTIS UN Equity', 'PAYC UN Equity', 'PEP UW Equity', 'PFG UW Equity', 'PRGO UN Equity', 'PYPL UW Equity', 'QRVO UW Equity', 'REG UW Equity', 'SYF UN Equity', 'TER UW Equity', 'TMUS UW Equity', 'TWTR UN Equity', 'UA UN Equity', 'VIAC UW Equity', 'WBA UW Equity', 'WLTW UW Equity', 'WRK UN Equity', 'XEL UW Equity', 'ZTS UN Equity']\n"
     ]
    }
   ],
   "source": [
    "#stage1 cleaning, drop companies that enter index after 2013\n",
    "#dataframe become df1\n",
    "companies_todrop = []\n",
    "for key, value in dict_startrow.items():\n",
    "    if value >= pd.Timestamp(2013, 1, 1):\n",
    "        companies_todrop.append(key)\n",
    "        company_list.remove(key)\n",
    "df1 = df.drop(companies_todrop, level=0, axis=1, inplace=False)\n",
    "print(companies_todrop)"
   ]
  },
  {
   "cell_type": "code",
   "execution_count": 65,
   "metadata": {},
   "outputs": [
    {
     "name": "stdout",
     "output_type": "stream",
     "text": [
      "58\n"
     ]
    }
   ],
   "source": [
    "print(len(companies_todrop))"
   ]
  },
  {
   "cell_type": "code",
   "execution_count": 70,
   "metadata": {},
   "outputs": [],
   "source": [
    "#check number of null values\n",
    "total_null_values = dict(df[df.columns].isnull().sum())\n",
    "#for key,value in total_null_values.items():\n",
    "    #print(key, ':', value)"
   ]
  },
  {
   "cell_type": "code",
   "execution_count": 71,
   "metadata": {
    "scrolled": false
   },
   "outputs": [
    {
     "name": "stdout",
     "output_type": "stream",
     "text": [
      "DAILY_RETURN  :  0.3420005551957065\n",
      "PX_LAST  :  0.3406680855001388\n",
      "PE_RATIO  :  2.600610715277135\n",
      "FREE_CASH_FLOW_YIELD  :  1.4707504395299342\n",
      "PX_TO_BOOK_RATIO  :  1.9799019154251873\n",
      "DVD_PAYOUT_RATIO  :  1.450393263625428\n",
      "NET_DEBT_TO_EBITDA  :  8.544165818451004\n",
      "PROF_MARGIN  :  0.6536504117701489\n",
      "CURRENT_EV_TO_T12M_EBITDA  :  8.928805403904876\n",
      "RETURN_ON_INV_CAPITAL  :  1.0726381049319884\n",
      "RSI_14D  :  0.5091514758952531\n",
      "RSI_30D  :  0.534764504487832\n",
      "MOV_AVG_50D  :  0.41861756269084854\n",
      "MOV_AVG_100D  :  0.5078190061996853\n",
      "MOV_AVG_200D  :  0.7097621911723883\n",
      "RETURN_ON_ASSET  :  1.029480892014435\n",
      "PX_TO_CASH_FLOW  :  1.607254557231424\n",
      "PX_TO_SALES_RATIO  :  1.3583788285370593\n",
      "CAP_EXPEND_TO_SALES  :  3.3190339594707137\n",
      "CASH_CONVERSION_CYCLE  :  32.31083556953826\n",
      "QUICK_RATIO  :  14.73274729342093\n",
      "TOT_DEBT_TO_TOT_EQY  :  1.4329971314888497\n"
     ]
    }
   ],
   "source": [
    "#return percentage of null values in the dataframe\n",
    "#remove attribute for all companies if percentage less than 70%\n",
    "percent_null = {}\n",
    "for attribute in range(0, att_number):\n",
    "    null_temp = 0\n",
    "    for i in range(attribute, df1.shape[1], att_number):\n",
    "        null_temp += df1.iloc[:, i].isnull().sum()\n",
    "    percent_null[df.columns[attribute][1]] = null_temp / (df.shape[0] * (df.shape[1] / att_number)) * 100\n",
    "for key, value in percent_null.items():\n",
    "    print(key, ' : ', value)"
   ]
  },
  {
   "cell_type": "code",
   "execution_count": 72,
   "metadata": {},
   "outputs": [],
   "source": [
    "df2 = df1.drop(['CASH_CONVERSION_CYCLE','QUICK_RATIO','CURRENT_EV_TO_T12M_EBITDA'], level=1, axis=1, inplace=False)\n",
    "#dataframe becomes df2"
   ]
  },
  {
   "cell_type": "code",
   "execution_count": 75,
   "metadata": {},
   "outputs": [
    {
     "name": "stdout",
     "output_type": "stream",
     "text": [
      "447\n"
     ]
    }
   ],
   "source": [
    "print(len(company_list))"
   ]
  },
  {
   "cell_type": "code",
   "execution_count": 74,
   "metadata": {},
   "outputs": [
    {
     "data": {
      "text/plain": [
       "(2675, 9834)"
      ]
     },
     "execution_count": 74,
     "metadata": {},
     "output_type": "execute_result"
    }
   ],
   "source": [
    "df1.shape"
   ]
  },
  {
   "cell_type": "code",
   "execution_count": 73,
   "metadata": {},
   "outputs": [
    {
     "data": {
      "text/plain": [
       "(2675, 8493)"
      ]
     },
     "execution_count": 73,
     "metadata": {},
     "output_type": "execute_result"
    }
   ],
   "source": [
    "df2.shape"
   ]
  },
  {
   "cell_type": "code",
   "execution_count": 77,
   "metadata": {},
   "outputs": [],
   "source": [
    "att_name.remove('CASH_CONVERSION_CYCLE')\n",
    "att_name.remove('QUICK_RATIO')\n",
    "att_name.remove('CURRENT_EV_TO_T12M_EBITDA')"
   ]
  },
  {
   "cell_type": "code",
   "execution_count": 78,
   "metadata": {},
   "outputs": [
    {
     "name": "stdout",
     "output_type": "stream",
     "text": [
      "19\n"
     ]
    }
   ],
   "source": [
    "print(len(att_name))"
   ]
  },
  {
   "cell_type": "code",
   "execution_count": 79,
   "metadata": {},
   "outputs": [],
   "source": [
    "df2 = df2.groupby(pd.PeriodIndex(df2.index, freq='Q'), axis=0).transform(lambda x: x.fillna(x.mean()))"
   ]
  },
  {
   "cell_type": "code",
   "execution_count": 80,
   "metadata": {},
   "outputs": [
    {
     "name": "stdout",
     "output_type": "stream",
     "text": [
      "('ABBV UN Equity', 'DAILY_RETURN')  :  455\n",
      "('ABBV UN Equity', 'PX_LAST')  :  455\n",
      "('ABBV UN Equity', 'PE_RATIO')  :  455\n",
      "('ABBV UN Equity', 'FREE_CASH_FLOW_YIELD')  :  521\n",
      "('ABBV UN Equity', 'PX_TO_BOOK_RATIO')  :  455\n",
      "('ABBV UN Equity', 'DVD_PAYOUT_RATIO')  :  260\n",
      "('ABBV UN Equity', 'NET_DEBT_TO_EBITDA')  :  260\n",
      "('ABBV UN Equity', 'RETURN_ON_INV_CAPITAL')  :  455\n",
      "('ABBV UN Equity', 'RSI_14D')  :  455\n",
      "('ABBV UN Equity', 'RSI_30D')  :  521\n",
      "('ABBV UN Equity', 'MOV_AVG_50D')  :  521\n",
      "('ABBV UN Equity', 'MOV_AVG_100D')  :  521\n",
      "('ABBV UN Equity', 'MOV_AVG_200D')  :  521\n",
      "('ABBV UN Equity', 'RETURN_ON_ASSET')  :  455\n",
      "('ABBV UN Equity', 'PX_TO_CASH_FLOW')  :  455\n",
      "('ABBV UN Equity', 'PX_TO_SALES_RATIO')  :  455\n",
      "('ABBV UN Equity', 'TOT_DEBT_TO_TOT_EQY')  :  260\n",
      "('ABMD UW Equity', 'PE_RATIO')  :  260\n",
      "('ABMD UW Equity', 'NET_DEBT_TO_EBITDA')  :  260\n",
      "('ADI UW Equity', 'DAILY_RETURN')  :  260\n",
      "('ADI UW Equity', 'PX_LAST')  :  260\n",
      "('ADI UW Equity', 'PE_RATIO')  :  260\n",
      "('ADI UW Equity', 'FREE_CASH_FLOW_YIELD')  :  260\n",
      "('ADI UW Equity', 'PX_TO_BOOK_RATIO')  :  260\n",
      "('ADI UW Equity', 'RSI_14D')  :  260\n",
      "('ADI UW Equity', 'RSI_30D')  :  260\n",
      "('ADI UW Equity', 'MOV_AVG_50D')  :  260\n",
      "('ADI UW Equity', 'MOV_AVG_100D')  :  260\n",
      "('ADI UW Equity', 'MOV_AVG_200D')  :  521\n",
      "('ADI UW Equity', 'PX_TO_CASH_FLOW')  :  260\n",
      "('ADI UW Equity', 'PX_TO_SALES_RATIO')  :  260\n",
      "('ADM UN Equity', 'PX_TO_CASH_FLOW')  :  260\n",
      "('AFL UN Equity', 'NET_DEBT_TO_EBITDA')  :  2675\n",
      "('AFL UN Equity', 'CAP_EXPEND_TO_SALES')  :  2675\n",
      "('AIG UN Equity', 'PE_RATIO')  :  195\n",
      "('AIG UN Equity', 'NET_DEBT_TO_EBITDA')  :  2675\n",
      "('AIG UN Equity', 'CAP_EXPEND_TO_SALES')  :  2675\n",
      "('AIZ UN Equity', 'NET_DEBT_TO_EBITDA')  :  2675\n",
      "('ALL UN Equity', 'NET_DEBT_TO_EBITDA')  :  2675\n",
      "('ANSS UW Equity', 'DVD_PAYOUT_RATIO')  :  521\n",
      "('APTV UN Equity', 'PE_RATIO')  :  260\n",
      "('APTV UN Equity', 'FREE_CASH_FLOW_YIELD')  :  260\n",
      "('APTV UN Equity', 'PX_TO_BOOK_RATIO')  :  195\n",
      "('APTV UN Equity', 'RETURN_ON_INV_CAPITAL')  :  260\n",
      "('APTV UN Equity', 'RSI_14D')  :  128\n",
      "('APTV UN Equity', 'RSI_30D')  :  260\n",
      "('APTV UN Equity', 'MOV_AVG_50D')  :  260\n",
      "('APTV UN Equity', 'MOV_AVG_100D')  :  260\n",
      "('APTV UN Equity', 'MOV_AVG_200D')  :  260\n",
      "('APTV UN Equity', 'RETURN_ON_ASSET')  :  260\n",
      "('APTV UN Equity', 'PX_TO_CASH_FLOW')  :  260\n",
      "('APTV UN Equity', 'PX_TO_SALES_RATIO')  :  260\n",
      "('AZO UN Equity', 'PX_TO_BOOK_RATIO')  :  2675\n",
      "('AZO UN Equity', 'TOT_DEBT_TO_TOT_EQY')  :  2675\n",
      "('BAC UN Equity', 'NET_DEBT_TO_EBITDA')  :  2675\n",
      "('BK UN Equity', 'NET_DEBT_TO_EBITDA')  :  2675\n",
      "('BKR UN Equity', 'PE_RATIO')  :  1825\n",
      "('BKR UN Equity', 'FREE_CASH_FLOW_YIELD')  :  1825\n",
      "('BKR UN Equity', 'PX_TO_BOOK_RATIO')  :  1500\n",
      "('BKR UN Equity', 'DVD_PAYOUT_RATIO')  :  1825\n",
      "('BKR UN Equity', 'NET_DEBT_TO_EBITDA')  :  1565\n",
      "('BKR UN Equity', 'PROF_MARGIN')  :  1304\n",
      "('BKR UN Equity', 'RETURN_ON_INV_CAPITAL')  :  1825\n",
      "('BKR UN Equity', 'RETURN_ON_ASSET')  :  1825\n",
      "('BKR UN Equity', 'PX_TO_CASH_FLOW')  :  1825\n",
      "('BKR UN Equity', 'PX_TO_SALES_RATIO')  :  1825\n",
      "('BKR UN Equity', 'CAP_EXPEND_TO_SALES')  :  1304\n",
      "('BKR UN Equity', 'TOT_DEBT_TO_TOT_EQY')  :  1565\n",
      "('BRK/B UN Equity', 'PE_RATIO')  :  2675\n",
      "('BRK/B UN Equity', 'FREE_CASH_FLOW_YIELD')  :  2675\n",
      "('BRK/B UN Equity', 'PX_TO_BOOK_RATIO')  :  2675\n",
      "('BRK/B UN Equity', 'PX_TO_CASH_FLOW')  :  2675\n",
      "('BRK/B UN Equity', 'PX_TO_SALES_RATIO')  :  2675\n",
      "('CB UN Equity', 'NET_DEBT_TO_EBITDA')  :  2675\n",
      "('CB UN Equity', 'CAP_EXPEND_TO_SALES')  :  2675\n",
      "('CCI UN Equity', 'PE_RATIO')  :  715\n",
      "('CCI UN Equity', 'FREE_CASH_FLOW_YIELD')  :  715\n",
      "('CCI UN Equity', 'PX_TO_BOOK_RATIO')  :  715\n",
      "('CCI UN Equity', 'DVD_PAYOUT_RATIO')  :  521\n",
      "('CCI UN Equity', 'NET_DEBT_TO_EBITDA')  :  715\n",
      "('CCI UN Equity', 'PROF_MARGIN')  :  521\n",
      "('CCI UN Equity', 'RETURN_ON_INV_CAPITAL')  :  976\n",
      "('CCI UN Equity', 'RETURN_ON_ASSET')  :  976\n",
      "('CCI UN Equity', 'PX_TO_CASH_FLOW')  :  715\n",
      "('CCI UN Equity', 'PX_TO_SALES_RATIO')  :  715\n",
      "('CCI UN Equity', 'CAP_EXPEND_TO_SALES')  :  521\n",
      "('CCI UN Equity', 'TOT_DEBT_TO_TOT_EQY')  :  715\n",
      "('CHTR UW Equity', 'DVD_PAYOUT_RATIO')  :  715\n",
      "('CINF UW Equity', 'NET_DEBT_TO_EBITDA')  :  2675\n",
      "('CMA UN Equity', 'NET_DEBT_TO_EBITDA')  :  2675\n",
      "('DD UN Equity', 'PE_RATIO')  :  1500\n",
      "('DD UN Equity', 'FREE_CASH_FLOW_YIELD')  :  2020\n",
      "('DD UN Equity', 'PX_TO_BOOK_RATIO')  :  1500\n",
      "('DD UN Equity', 'DVD_PAYOUT_RATIO')  :  1304\n",
      "('DD UN Equity', 'NET_DEBT_TO_EBITDA')  :  1565\n",
      "('DD UN Equity', 'PROF_MARGIN')  :  1304\n",
      "('DD UN Equity', 'RETURN_ON_INV_CAPITAL')  :  1825\n",
      "('DD UN Equity', 'RETURN_ON_ASSET')  :  1825\n",
      "('DD UN Equity', 'PX_TO_CASH_FLOW')  :  2020\n",
      "('DD UN Equity', 'PX_TO_SALES_RATIO')  :  1500\n",
      "('DD UN Equity', 'CAP_EXPEND_TO_SALES')  :  1565\n",
      "('DD UN Equity', 'TOT_DEBT_TO_TOT_EQY')  :  1304\n",
      "('DPZ UN Equity', 'PX_TO_BOOK_RATIO')  :  2675\n",
      "('DPZ UN Equity', 'TOT_DEBT_TO_TOT_EQY')  :  2675\n",
      "('DXCM UW Equity', 'PE_RATIO')  :  1825\n",
      "('DXCM UW Equity', 'DVD_PAYOUT_RATIO')  :  976\n",
      "('DXCM UW Equity', 'NET_DEBT_TO_EBITDA')  :  1825\n",
      "('DXCM UW Equity', 'PX_TO_CASH_FLOW')  :  715\n",
      "('ENPH UQ Equity', 'DAILY_RETURN')  :  260\n",
      "('ENPH UQ Equity', 'PX_LAST')  :  260\n",
      "('ENPH UQ Equity', 'PE_RATIO')  :  1825\n",
      "('ENPH UQ Equity', 'FREE_CASH_FLOW_YIELD')  :  260\n",
      "('ENPH UQ Equity', 'PX_TO_BOOK_RATIO')  :  260\n",
      "('ENPH UQ Equity', 'DVD_PAYOUT_RATIO')  :  782\n",
      "('ENPH UQ Equity', 'NET_DEBT_TO_EBITDA')  :  976\n",
      "('ENPH UQ Equity', 'RSI_14D')  :  260\n",
      "('ENPH UQ Equity', 'RSI_30D')  :  260\n",
      "('ENPH UQ Equity', 'MOV_AVG_50D')  :  260\n",
      "('ENPH UQ Equity', 'MOV_AVG_100D')  :  260\n",
      "('ENPH UQ Equity', 'MOV_AVG_200D')  :  521\n",
      "('ENPH UQ Equity', 'PX_TO_CASH_FLOW')  :  260\n",
      "('ENPH UQ Equity', 'PX_TO_SALES_RATIO')  :  260\n",
      "('EQR UN Equity', 'PE_RATIO')  :  195\n",
      "('EVRG UN Equity', 'PE_RATIO')  :  2020\n",
      "('EVRG UN Equity', 'FREE_CASH_FLOW_YIELD')  :  2020\n",
      "('EVRG UN Equity', 'PX_TO_BOOK_RATIO')  :  1825\n",
      "('EVRG UN Equity', 'DVD_PAYOUT_RATIO')  :  1825\n",
      "('EVRG UN Equity', 'NET_DEBT_TO_EBITDA')  :  2020\n",
      "('EVRG UN Equity', 'PROF_MARGIN')  :  1825\n",
      "('EVRG UN Equity', 'RETURN_ON_INV_CAPITAL')  :  2086\n",
      "('EVRG UN Equity', 'RETURN_ON_ASSET')  :  2086\n",
      "('EVRG UN Equity', 'PX_TO_CASH_FLOW')  :  2020\n",
      "('EVRG UN Equity', 'PX_TO_SALES_RATIO')  :  2020\n",
      "('EVRG UN Equity', 'CAP_EXPEND_TO_SALES')  :  1825\n",
      "('EVRG UN Equity', 'TOT_DEBT_TO_TOT_EQY')  :  1825\n",
      "('FANG UW Equity', 'DAILY_RETURN')  :  260\n",
      "('FANG UW Equity', 'PX_LAST')  :  260\n",
      "('FANG UW Equity', 'PE_RATIO')  :  260\n",
      "('FANG UW Equity', 'FREE_CASH_FLOW_YIELD')  :  260\n",
      "('FANG UW Equity', 'PX_TO_BOOK_RATIO')  :  260\n",
      "('FANG UW Equity', 'NET_DEBT_TO_EBITDA')  :  260\n",
      "('FANG UW Equity', 'RETURN_ON_INV_CAPITAL')  :  260\n",
      "('FANG UW Equity', 'RSI_14D')  :  260\n",
      "('FANG UW Equity', 'RSI_30D')  :  260\n",
      "('FANG UW Equity', 'MOV_AVG_50D')  :  455\n",
      "('FANG UW Equity', 'MOV_AVG_100D')  :  521\n",
      "('FANG UW Equity', 'MOV_AVG_200D')  :  521\n",
      "('FANG UW Equity', 'RETURN_ON_ASSET')  :  260\n",
      "('FANG UW Equity', 'PX_TO_CASH_FLOW')  :  260\n",
      "('FANG UW Equity', 'PX_TO_SALES_RATIO')  :  260\n",
      "('FB UW Equity', 'DAILY_RETURN')  :  260\n",
      "('FB UW Equity', 'PX_LAST')  :  260\n",
      "('FB UW Equity', 'PE_RATIO')  :  260\n",
      "('FB UW Equity', 'FREE_CASH_FLOW_YIELD')  :  260\n",
      "('FB UW Equity', 'PX_TO_BOOK_RATIO')  :  260\n",
      "('FB UW Equity', 'NET_DEBT_TO_EBITDA')  :  260\n",
      "('FB UW Equity', 'RETURN_ON_INV_CAPITAL')  :  260\n",
      "('FB UW Equity', 'RSI_14D')  :  260\n",
      "('FB UW Equity', 'RSI_30D')  :  260\n",
      "('FB UW Equity', 'MOV_AVG_50D')  :  260\n",
      "('FB UW Equity', 'MOV_AVG_100D')  :  260\n",
      "('FB UW Equity', 'MOV_AVG_200D')  :  521\n",
      "('FB UW Equity', 'PX_TO_CASH_FLOW')  :  260\n",
      "('FB UW Equity', 'PX_TO_SALES_RATIO')  :  260\n",
      "('FBHS UN Equity', 'RETURN_ON_INV_CAPITAL')  :  260\n",
      "('FBHS UN Equity', 'MOV_AVG_100D')  :  260\n",
      "('FBHS UN Equity', 'MOV_AVG_200D')  :  260\n",
      "('FITB UW Equity', 'NET_DEBT_TO_EBITDA')  :  2675\n",
      "('FRC UN Equity', 'FREE_CASH_FLOW_YIELD')  :  195\n",
      "('FRC UN Equity', 'NET_DEBT_TO_EBITDA')  :  2675\n",
      "('FRC UN Equity', 'PX_TO_CASH_FLOW')  :  195\n",
      "('GL UN Equity', 'NET_DEBT_TO_EBITDA')  :  2675\n",
      "('HBAN UW Equity', 'NET_DEBT_TO_EBITDA')  :  2675\n",
      "('HCA UN Equity', 'PX_TO_BOOK_RATIO')  :  2544\n",
      "('HCA UN Equity', 'MOV_AVG_200D')  :  195\n",
      "('HCA UN Equity', 'TOT_DEBT_TO_TOT_EQY')  :  2347\n",
      "('HIG UN Equity', 'NET_DEBT_TO_EBITDA')  :  2675\n",
      "('HIG UN Equity', 'CAP_EXPEND_TO_SALES')  :  715\n",
      "('HII UN Equity', 'FREE_CASH_FLOW_YIELD')  :  195\n",
      "('HII UN Equity', 'NET_DEBT_TO_EBITDA')  :  260\n",
      "('HII UN Equity', 'MOV_AVG_200D')  :  260\n",
      "('HII UN Equity', 'PX_TO_CASH_FLOW')  :  195\n",
      "('INCY UW Equity', 'PE_RATIO')  :  1239\n",
      "('INCY UW Equity', 'PX_TO_BOOK_RATIO')  :  521\n",
      "('INCY UW Equity', 'TOT_DEBT_TO_TOT_EQY')  :  521\n",
      "('JPM UN Equity', 'NET_DEBT_TO_EBITDA')  :  2675\n",
      "('JPM UN Equity', 'CAP_EXPEND_TO_SALES')  :  2675\n",
      "('KEY UN Equity', 'NET_DEBT_TO_EBITDA')  :  2675\n",
      "('KMI UN Equity', 'PE_RATIO')  :  195\n",
      "('KMI UN Equity', 'FREE_CASH_FLOW_YIELD')  :  455\n",
      "('KMI UN Equity', 'PX_TO_CASH_FLOW')  :  195\n",
      "('KMI UN Equity', 'PX_TO_SALES_RATIO')  :  195\n",
      "('L UN Equity', 'NET_DEBT_TO_EBITDA')  :  2675\n",
      "('LIN UN Equity', 'PE_RATIO')  :  2020\n",
      "('LIN UN Equity', 'FREE_CASH_FLOW_YIELD')  :  2020\n",
      "('LIN UN Equity', 'PX_TO_BOOK_RATIO')  :  1825\n",
      "('LIN UN Equity', 'DVD_PAYOUT_RATIO')  :  1825\n",
      "('LIN UN Equity', 'NET_DEBT_TO_EBITDA')  :  2280\n",
      "('LIN UN Equity', 'PROF_MARGIN')  :  1825\n",
      "('LIN UN Equity', 'RETURN_ON_INV_CAPITAL')  :  2086\n",
      "('LIN UN Equity', 'RETURN_ON_ASSET')  :  2086\n",
      "('LIN UN Equity', 'PX_TO_CASH_FLOW')  :  2020\n",
      "('LIN UN Equity', 'PX_TO_SALES_RATIO')  :  2020\n",
      "('LIN UN Equity', 'CAP_EXPEND_TO_SALES')  :  1825\n",
      "('LIN UN Equity', 'TOT_DEBT_TO_TOT_EQY')  :  1825\n",
      "('LNC UN Equity', 'NET_DEBT_TO_EBITDA')  :  2675\n",
      "('LNC UN Equity', 'CAP_EXPEND_TO_SALES')  :  2675\n",
      "('LYV UN Equity', 'PE_RATIO')  :  782\n",
      "('MAA UN Equity', 'NET_DEBT_TO_EBITDA')  :  260\n",
      "('MCO UN Equity', 'PX_TO_BOOK_RATIO')  :  260\n",
      "('MCO UN Equity', 'TOT_DEBT_TO_TOT_EQY')  :  260\n",
      "('MDLZ UW Equity', 'DAILY_RETURN')  :  260\n",
      "('MDLZ UW Equity', 'PX_LAST')  :  260\n",
      "('MDLZ UW Equity', 'PE_RATIO')  :  260\n",
      "('MDLZ UW Equity', 'FREE_CASH_FLOW_YIELD')  :  260\n",
      "('MDLZ UW Equity', 'PX_TO_BOOK_RATIO')  :  260\n",
      "('MDLZ UW Equity', 'RSI_14D')  :  260\n",
      "('MDLZ UW Equity', 'RSI_30D')  :  260\n",
      "('MDLZ UW Equity', 'MOV_AVG_50D')  :  260\n",
      "('MDLZ UW Equity', 'MOV_AVG_100D')  :  260\n",
      "('MDLZ UW Equity', 'MOV_AVG_200D')  :  521\n",
      "('MDLZ UW Equity', 'PX_TO_CASH_FLOW')  :  260\n",
      "('MDLZ UW Equity', 'PX_TO_SALES_RATIO')  :  260\n",
      "('MET UN Equity', 'NET_DEBT_TO_EBITDA')  :  2675\n",
      "('MET UN Equity', 'CAP_EXPEND_TO_SALES')  :  2675\n",
      "('MGM UN Equity', 'PE_RATIO')  :  715\n",
      "('MPC UN Equity', 'MOV_AVG_200D')  :  260\n",
      "('MTB UN Equity', 'NET_DEBT_TO_EBITDA')  :  2675\n",
      "('NDAQ UW Equity', 'DVD_PAYOUT_RATIO')  :  260\n",
      "('NLOK UW Equity', 'DVD_PAYOUT_RATIO')  :  260\n",
      "('NOW UN Equity', 'DAILY_RETURN')  :  260\n",
      "('NOW UN Equity', 'PX_LAST')  :  260\n",
      "('NOW UN Equity', 'PE_RATIO')  :  2086\n",
      "('NOW UN Equity', 'FREE_CASH_FLOW_YIELD')  :  260\n",
      "('NOW UN Equity', 'PX_TO_BOOK_RATIO')  :  260\n",
      "('NOW UN Equity', 'NET_DEBT_TO_EBITDA')  :  1565\n",
      "('NOW UN Equity', 'RETURN_ON_INV_CAPITAL')  :  455\n",
      "('NOW UN Equity', 'RSI_14D')  :  260\n",
      "('NOW UN Equity', 'RSI_30D')  :  260\n",
      "('NOW UN Equity', 'MOV_AVG_50D')  :  260\n",
      "('NOW UN Equity', 'MOV_AVG_100D')  :  260\n",
      "('NOW UN Equity', 'MOV_AVG_200D')  :  521\n",
      "('NOW UN Equity', 'RETURN_ON_ASSET')  :  455\n",
      "('NOW UN Equity', 'PX_TO_CASH_FLOW')  :  260\n",
      "('NOW UN Equity', 'PX_TO_SALES_RATIO')  :  260\n",
      "('NTRS UW Equity', 'NET_DEBT_TO_EBITDA')  :  2675\n",
      "('PBCT UW Equity', 'NET_DEBT_TO_EBITDA')  :  2675\n",
      "('PGR UN Equity', 'NET_DEBT_TO_EBITDA')  :  2675\n",
      "('PHM UN Equity', 'DVD_PAYOUT_RATIO')  :  260\n",
      "('PLD UN Equity', 'PE_RATIO')  :  976\n",
      "('PNC UN Equity', 'NET_DEBT_TO_EBITDA')  :  2675\n",
      "('PNC UN Equity', 'CAP_EXPEND_TO_SALES')  :  2675\n",
      "('PRU UN Equity', 'NET_DEBT_TO_EBITDA')  :  2675\n",
      "('PRU UN Equity', 'CAP_EXPEND_TO_SALES')  :  2675\n",
      "('PSX UN Equity', 'DAILY_RETURN')  :  260\n",
      "('PSX UN Equity', 'PX_LAST')  :  260\n",
      "('PSX UN Equity', 'PE_RATIO')  :  260\n",
      "('PSX UN Equity', 'FREE_CASH_FLOW_YIELD')  :  260\n",
      "('PSX UN Equity', 'PX_TO_BOOK_RATIO')  :  260\n",
      "('PSX UN Equity', 'NET_DEBT_TO_EBITDA')  :  260\n",
      "('PSX UN Equity', 'RETURN_ON_INV_CAPITAL')  :  455\n",
      "('PSX UN Equity', 'RSI_14D')  :  260\n",
      "('PSX UN Equity', 'RSI_30D')  :  260\n",
      "('PSX UN Equity', 'MOV_AVG_50D')  :  260\n",
      "('PSX UN Equity', 'MOV_AVG_100D')  :  260\n",
      "('PSX UN Equity', 'MOV_AVG_200D')  :  521\n",
      "('PSX UN Equity', 'RETURN_ON_ASSET')  :  455\n",
      "('PSX UN Equity', 'PX_TO_CASH_FLOW')  :  260\n",
      "('PSX UN Equity', 'PX_TO_SALES_RATIO')  :  260\n",
      "('PSX UN Equity', 'TOT_DEBT_TO_TOT_EQY')  :  260\n",
      "('RE UN Equity', 'NET_DEBT_TO_EBITDA')  :  2675\n",
      "('RE UN Equity', 'CAP_EXPEND_TO_SALES')  :  2675\n",
      "('REGN UW Equity', 'PE_RATIO')  :  260\n",
      "('REGN UW Equity', 'DVD_PAYOUT_RATIO')  :  260\n",
      "('REGN UW Equity', 'NET_DEBT_TO_EBITDA')  :  260\n",
      "('RF UN Equity', 'NET_DEBT_TO_EBITDA')  :  2675\n",
      "('SBAC UW Equity', 'PE_RATIO')  :  782\n",
      "('SBAC UW Equity', 'DVD_PAYOUT_RATIO')  :  521\n",
      "('SIVB UW Equity', 'NET_DEBT_TO_EBITDA')  :  2675\n",
      "('STT UN Equity', 'NET_DEBT_TO_EBITDA')  :  2675\n",
      "('TFC UN Equity', 'NET_DEBT_TO_EBITDA')  :  2675\n",
      "('TRV UN Equity', 'NET_DEBT_TO_EBITDA')  :  2675\n",
      "('TRV UN Equity', 'CAP_EXPEND_TO_SALES')  :  2675\n",
      "('TSLA UW Equity', 'PE_RATIO')  :  2347\n",
      "('TSLA UW Equity', 'DVD_PAYOUT_RATIO')  :  521\n",
      "('TSLA UW Equity', 'NET_DEBT_TO_EBITDA')  :  715\n",
      "('TSLA UW Equity', 'PX_TO_CASH_FLOW')  :  521\n",
      "('TTWO UW Equity', 'NET_DEBT_TO_EBITDA')  :  260\n",
      "('TTWO UW Equity', 'RETURN_ON_INV_CAPITAL')  :  260\n",
      "('TTWO UW Equity', 'RETURN_ON_ASSET')  :  260\n",
      "('TXN UW Equity', 'DAILY_RETURN')  :  260\n",
      "('TXN UW Equity', 'PX_LAST')  :  260\n",
      "('TXN UW Equity', 'PE_RATIO')  :  260\n",
      "('TXN UW Equity', 'FREE_CASH_FLOW_YIELD')  :  260\n",
      "('TXN UW Equity', 'PX_TO_BOOK_RATIO')  :  260\n",
      "('TXN UW Equity', 'RSI_14D')  :  260\n",
      "('TXN UW Equity', 'RSI_30D')  :  260\n",
      "('TXN UW Equity', 'MOV_AVG_50D')  :  260\n",
      "('TXN UW Equity', 'MOV_AVG_100D')  :  260\n",
      "('TXN UW Equity', 'MOV_AVG_200D')  :  260\n",
      "('TXN UW Equity', 'PX_TO_CASH_FLOW')  :  260\n",
      "('TXN UW Equity', 'PX_TO_SALES_RATIO')  :  260\n",
      "('UAL UW Equity', 'PE_RATIO')  :  1825\n",
      "('UAL UW Equity', 'FREE_CASH_FLOW_YIELD')  :  1825\n",
      "('UAL UW Equity', 'PX_TO_BOOK_RATIO')  :  1825\n",
      "('UAL UW Equity', 'RSI_14D')  :  1825\n",
      "('UAL UW Equity', 'RSI_30D')  :  1825\n",
      "('UAL UW Equity', 'PX_TO_CASH_FLOW')  :  1825\n",
      "('UAL UW Equity', 'PX_TO_SALES_RATIO')  :  1825\n",
      "('UDR UN Equity', 'PE_RATIO')  :  782\n",
      "('UDR UN Equity', 'DVD_PAYOUT_RATIO')  :  521\n",
      "('UNM UN Equity', 'NET_DEBT_TO_EBITDA')  :  2675\n",
      "('UNM UN Equity', 'CAP_EXPEND_TO_SALES')  :  2675\n",
      "('USB UN Equity', 'NET_DEBT_TO_EBITDA')  :  2675\n",
      "('USB UN Equity', 'CAP_EXPEND_TO_SALES')  :  2675\n",
      "('VMC UN Equity', 'PE_RATIO')  :  782\n",
      "('VRTX UW Equity', 'PE_RATIO')  :  195\n",
      "('VRTX UW Equity', 'NET_DEBT_TO_EBITDA')  :  260\n",
      "('VRTX UW Equity', 'PX_TO_CASH_FLOW')  :  195\n",
      "('VTRS UW Equity', 'DVD_PAYOUT_RATIO')  :  260\n",
      "('WDC UW Equity', 'DAILY_RETURN')  :  260\n",
      "('WDC UW Equity', 'PX_LAST')  :  260\n",
      "('WDC UW Equity', 'PE_RATIO')  :  260\n",
      "('WDC UW Equity', 'FREE_CASH_FLOW_YIELD')  :  260\n",
      "('WDC UW Equity', 'PX_TO_BOOK_RATIO')  :  260\n",
      "('WDC UW Equity', 'DVD_PAYOUT_RATIO')  :  260\n",
      "('WDC UW Equity', 'RSI_14D')  :  260\n",
      "('WDC UW Equity', 'RSI_30D')  :  260\n",
      "('WDC UW Equity', 'MOV_AVG_50D')  :  260\n",
      "('WDC UW Equity', 'MOV_AVG_100D')  :  260\n",
      "('WDC UW Equity', 'MOV_AVG_200D')  :  521\n",
      "('WDC UW Equity', 'PX_TO_CASH_FLOW')  :  260\n",
      "('WDC UW Equity', 'PX_TO_SALES_RATIO')  :  260\n",
      "('WFC UN Equity', 'NET_DEBT_TO_EBITDA')  :  2675\n",
      "('WFC UN Equity', 'CAP_EXPEND_TO_SALES')  :  2675\n",
      "('WRB UN Equity', 'NET_DEBT_TO_EBITDA')  :  2675\n",
      "('XYL UN Equity', 'RETURN_ON_INV_CAPITAL')  :  260\n",
      "('XYL UN Equity', 'MOV_AVG_50D')  :  195\n",
      "('XYL UN Equity', 'MOV_AVG_100D')  :  260\n",
      "('XYL UN Equity', 'MOV_AVG_200D')  :  260\n",
      "('XYL UN Equity', 'RETURN_ON_ASSET')  :  260\n",
      "('ZION UW Equity', 'PE_RATIO')  :  195\n",
      "('ZION UW Equity', 'NET_DEBT_TO_EBITDA')  :  2675\n"
     ]
    }
   ],
   "source": [
    "total_null_values = {}\n",
    "count = 0\n",
    "total_null_values = dict(df2[df2.columns].isnull().sum())\n",
    "for key,value in total_null_values.items():\n",
    "    if value != 0:\n",
    "        count += value\n",
    "        print(key, ' : ', value)"
   ]
  },
  {
   "cell_type": "code",
   "execution_count": 81,
   "metadata": {},
   "outputs": [
    {
     "data": {
      "text/plain": [
       "(2675, 8493)"
      ]
     },
     "execution_count": 81,
     "metadata": {},
     "output_type": "execute_result"
    }
   ],
   "source": [
    "df2.shape"
   ]
  },
  {
   "cell_type": "code",
   "execution_count": 82,
   "metadata": {},
   "outputs": [],
   "source": [
    "df2.drop('BRK/B UN Equity', level=0, axis=1, inplace=True)"
   ]
  },
  {
   "cell_type": "code",
   "execution_count": 83,
   "metadata": {},
   "outputs": [
    {
     "data": {
      "text/plain": [
       "(2675, 8474)"
      ]
     },
     "execution_count": 83,
     "metadata": {},
     "output_type": "execute_result"
    }
   ],
   "source": [
    "df2.shape"
   ]
  },
  {
   "cell_type": "code",
   "execution_count": 84,
   "metadata": {},
   "outputs": [
    {
     "name": "stdout",
     "output_type": "stream",
     "text": [
      "447\n"
     ]
    }
   ],
   "source": [
    "print(len(company_list))"
   ]
  },
  {
   "cell_type": "code",
   "execution_count": 85,
   "metadata": {},
   "outputs": [],
   "source": [
    "company_list.remove('BRK/B UN Equity')"
   ]
  },
  {
   "cell_type": "code",
   "execution_count": 86,
   "metadata": {},
   "outputs": [
    {
     "name": "stdout",
     "output_type": "stream",
     "text": [
      "446\n"
     ]
    }
   ],
   "source": [
    "print(len(company_list))"
   ]
  },
  {
   "cell_type": "code",
   "execution_count": 87,
   "metadata": {},
   "outputs": [
    {
     "name": "stdout",
     "output_type": "stream",
     "text": [
      "DAILY_RETURN  :  1.1955029016739493\n",
      "PX_LAST  :  1.5308221519811012\n",
      "PE_RATIO  :  0.9362734609878706\n",
      "FREE_CASH_FLOW_YIELD  :  0.9928555515606837\n",
      "PX_TO_BOOK_RATIO  :  0.909874955609131\n",
      "DVD_PAYOUT_RATIO  :  2.2715331558433824\n",
      "NET_DEBT_TO_EBITDA  :  1.3852421590836401\n",
      "PROF_MARGIN  :  2.068303485758527\n",
      "CURRENT_EV_TO_T12M_EBITDA  :  1.6884367576247523\n",
      "RETURN_ON_INV_CAPITAL  :  2.3469435921642674\n",
      "RSI_14D  :  1.1825948089703744\n",
      "RSI_30D  :  1.8852609080221194\n",
      "MOV_AVG_50D  :  0.8601836513667976\n",
      "MOV_AVG_100D  :  1.0943733332745131\n",
      "MOV_AVG_200D  :  0.7524544566226765\n",
      "RETURN_ON_ASSET  :  1.3846598391120502\n",
      "PX_TO_CASH_FLOW  :  1.7208525693765866\n",
      "PX_TO_SALES_RATIO  :  1.6316605603947425\n",
      "CAP_EXPEND_TO_SALES  :  1.8028626320421564\n",
      "CASH_CONVERSION_CYCLE  :  1.2518908855895658\n",
      "QUICK_RATIO  :  1.9682415039736718\n",
      "TOT_DEBT_TO_TOT_EQY  :  1.7145441030176969\n"
     ]
    }
   ],
   "source": [
    "#return percentage of null values in the dataframe\n",
    "#remove attribute for all companies if percentage less than 70%\n",
    "percent_null2 = {}\n",
    "for attribute in range(0, att_number):\n",
    "    null_temp = 0\n",
    "    for i in range(attribute, df2.shape[1], att_number):\n",
    "        null_temp += df2.iloc[:, i].isnull().sum()\n",
    "    percent_null2[df.columns[attribute][1]] = null_temp / (df2.shape[0] * (df2.shape[1] / att_number)) * 100\n",
    "for key, value in percent_null2.items():\n",
    "    print(key, ' : ', value)"
   ]
  },
  {
   "cell_type": "code",
   "execution_count": 88,
   "metadata": {},
   "outputs": [
    {
     "name": "stdout",
     "output_type": "stream",
     "text": [
      "446\n"
     ]
    }
   ],
   "source": [
    "print(len(company_list))"
   ]
  },
  {
   "cell_type": "code",
   "execution_count": 89,
   "metadata": {},
   "outputs": [
    {
     "name": "stdout",
     "output_type": "stream",
     "text": [
      "['DAILY_RETURN', 'DAILY_RETURN', 'PE_RATIO', 'FREE_CASH_FLOW_YIELD', 'PX_TO_BOOK_RATIO', 'DVD_PAYOUT_RATIO', 'NET_DEBT_TO_EBITDA', 'PROF_MARGIN', 'RETURN_ON_INV_CAPITAL', 'RSI_14D', 'RSI_30D', 'MOV_AVG_50D', 'MOV_AVG_100D', 'MOV_AVG_200D', 'RETURN_ON_ASSET', 'PX_TO_CASH_FLOW', 'PX_TO_SALES_RATIO', 'CAP_EXPEND_TO_SALES', 'TOT_DEBT_TO_TOT_EQY']\n",
      "19\n"
     ]
    }
   ],
   "source": [
    "print(att_name)\n",
    "print(len(att_name))"
   ]
  },
  {
   "cell_type": "code",
   "execution_count": 91,
   "metadata": {},
   "outputs": [
    {
     "data": {
      "text/plain": [
       "(2675, 8474)"
      ]
     },
     "execution_count": 91,
     "metadata": {},
     "output_type": "execute_result"
    }
   ],
   "source": [
    "df2.shape"
   ]
  },
  {
   "cell_type": "code",
   "execution_count": 94,
   "metadata": {},
   "outputs": [],
   "source": [
    "train_df = df2.iloc[:math.floor(df2.shape[0]/2),]\n",
    "test_df = df2.iloc[math.ceil(df2.shape[0]/2):,]"
   ]
  },
  {
   "cell_type": "code",
   "execution_count": 95,
   "metadata": {},
   "outputs": [],
   "source": [
    "daily_return = pd.DataFrame(train_df.iloc[:, train_df.columns.get_level_values(1)=='DAILY_RETURN'])\n",
    "daily_return = daily_return.transpose()\n",
    "daily_return = daily_return.droplevel(1)"
   ]
  },
  {
   "cell_type": "code",
   "execution_count": 97,
   "metadata": {},
   "outputs": [],
   "source": [
    "pe_ratio = pd.DataFrame(train_df.iloc[:, train_df.columns.get_level_values(1)=='PE_RATIO'])\n",
    "pe_ratio = pe_ratio.transpose()\n",
    "pe_ratio = pe_ratio.droplevel(1)"
   ]
  },
  {
   "cell_type": "code",
   "execution_count": 99,
   "metadata": {},
   "outputs": [],
   "source": [
    "free_cash_flow_yield = pd.DataFrame(train_df.iloc[:, train_df.columns.get_level_values(1)=='FREE_CASH_FLOW_YIELD'])\n",
    "free_cash_flow_yield = free_cash_flow_yield.transpose()\n",
    "free_cash_flow_yield = free_cash_flow_yield.droplevel(1)"
   ]
  },
  {
   "cell_type": "code",
   "execution_count": 100,
   "metadata": {},
   "outputs": [],
   "source": [
    "px_to_book_ratio = pd.DataFrame(train_df.iloc[:, train_df.columns.get_level_values(1)=='PX_TO_BOOK_RATIO'])\n",
    "px_to_book_ratio = px_to_book_ratio.transpose()\n",
    "px_to_book_ratio = px_to_book_ratio.droplevel(1)"
   ]
  },
  {
   "cell_type": "code",
   "execution_count": 101,
   "metadata": {},
   "outputs": [],
   "source": [
    "dvd_payout_ratio = pd.DataFrame(train_df.iloc[:, train_df.columns.get_level_values(1)=='DVD_PAYOUT_RATIO'])\n",
    "dvd_payout_ratio = dvd_payout_ratio.transpose()\n",
    "dvd_payout_ratio = dvd_payout_ratio.droplevel(1)"
   ]
  },
  {
   "cell_type": "code",
   "execution_count": 102,
   "metadata": {},
   "outputs": [],
   "source": [
    "net_debt_to_ebitda = pd.DataFrame(train_df.iloc[:, train_df.columns.get_level_values(1)=='NET_DEBT_TO_EBITDA'])\n",
    "net_debt_to_ebitda = net_debt_to_ebitda.transpose()\n",
    "net_debt_to_ebitda = net_debt_to_ebitda.droplevel(1)"
   ]
  },
  {
   "cell_type": "code",
   "execution_count": 103,
   "metadata": {},
   "outputs": [],
   "source": [
    "prof_margin = pd.DataFrame(train_df.iloc[:, train_df.columns.get_level_values(1)=='PROF_MARGIN'])\n",
    "prof_margin = prof_margin.transpose()\n",
    "prof_margin = prof_margin.droplevel(1)"
   ]
  },
  {
   "cell_type": "code",
   "execution_count": 104,
   "metadata": {},
   "outputs": [],
   "source": [
    "return_on_inv_capital = pd.DataFrame(train_df.iloc[:, train_df.columns.get_level_values(1)=='RETURN_ON_INV_CAPITAL'])\n",
    "return_on_inv_capital = return_on_inv_capital.transpose()\n",
    "return_on_inv_capital = return_on_inv_capital.droplevel(1)"
   ]
  },
  {
   "cell_type": "code",
   "execution_count": 105,
   "metadata": {},
   "outputs": [],
   "source": [
    "rsi_14d = pd.DataFrame(train_df.iloc[:, train_df.columns.get_level_values(1)=='RSI_14D'])\n",
    "rsi_14d = rsi_14d.transpose()\n",
    "rsi_14d = rsi_14d.droplevel(1)"
   ]
  },
  {
   "cell_type": "code",
   "execution_count": 106,
   "metadata": {},
   "outputs": [],
   "source": [
    "rsi_30d = pd.DataFrame(train_df.iloc[:, train_df.columns.get_level_values(1)=='RSI_30D'])\n",
    "rsi_30d = rsi_30d.transpose()\n",
    "rsi_30d = rsi_30d.droplevel(1)"
   ]
  },
  {
   "cell_type": "code",
   "execution_count": 107,
   "metadata": {},
   "outputs": [],
   "source": [
    "mov_avg_50d = pd.DataFrame(train_df.iloc[:, train_df.columns.get_level_values(1)=='MOV_AVG_50D'])\n",
    "mov_avg_50d = mov_avg_50d.transpose()\n",
    "mov_avg_50d = mov_avg_50d.droplevel(1)"
   ]
  },
  {
   "cell_type": "code",
   "execution_count": 108,
   "metadata": {},
   "outputs": [],
   "source": [
    "mov_avg_100d = pd.DataFrame(train_df.iloc[:, train_df.columns.get_level_values(1)=='MOV_AVG_100D'])\n",
    "mov_avg_100d = mov_avg_100d.transpose()\n",
    "mov_avg_100d = mov_avg_100d.droplevel(1)"
   ]
  },
  {
   "cell_type": "code",
   "execution_count": 109,
   "metadata": {},
   "outputs": [],
   "source": [
    "mov_avg_200d = pd.DataFrame(train_df.iloc[:, train_df.columns.get_level_values(1)=='MOV_AVG_200D'])\n",
    "mov_avg_200d = mov_avg_200d.transpose()\n",
    "mov_avg_200d = mov_avg_200d.droplevel(1)"
   ]
  },
  {
   "cell_type": "code",
   "execution_count": 110,
   "metadata": {},
   "outputs": [],
   "source": [
    "return_on_asset = pd.DataFrame(train_df.iloc[:, train_df.columns.get_level_values(1)=='RETURN_ON_ASSET'])\n",
    "return_on_asset = return_on_asset.transpose()\n",
    "return_on_asset = return_on_asset.droplevel(1)"
   ]
  },
  {
   "cell_type": "code",
   "execution_count": 111,
   "metadata": {},
   "outputs": [],
   "source": [
    "px_to_cash_flow = pd.DataFrame(train_df.iloc[:, train_df.columns.get_level_values(1)=='PX_TO_CASH_FLOW'])\n",
    "px_to_cash_flow = px_to_cash_flow.transpose()\n",
    "px_to_cash_flow = px_to_cash_flow.droplevel(1)"
   ]
  },
  {
   "cell_type": "code",
   "execution_count": 112,
   "metadata": {},
   "outputs": [],
   "source": [
    "px_to_sales_ratio = pd.DataFrame(train_df.iloc[:, train_df.columns.get_level_values(1)=='PX_TO_SALES_RATIO'])\n",
    "px_to_sales_ratio = px_to_sales_ratio.transpose()\n",
    "px_to_sales_ratio = px_to_sales_ratio.droplevel(1)"
   ]
  },
  {
   "cell_type": "code",
   "execution_count": 113,
   "metadata": {},
   "outputs": [],
   "source": [
    "cap_expend_to_sales = pd.DataFrame(train_df.iloc[:, train_df.columns.get_level_values(1)=='CAP_EXPEND_TO_SALES'])\n",
    "cap_expend_to_sales = cap_expend_to_sales.transpose()\n",
    "cap_expend_to_sales = cap_expend_to_sales.droplevel(1)"
   ]
  },
  {
   "cell_type": "code",
   "execution_count": 114,
   "metadata": {},
   "outputs": [],
   "source": [
    "tot_debt_to_tot_eqy = pd.DataFrame(train_df.iloc[:, train_df.columns.get_level_values(1)=='TOT_DEBT_TO_TOT_EQY'])\n",
    "tot_debt_to_tot_eqy = tot_debt_to_tot_eqy.transpose()\n",
    "tot_debt_to_tot_eqy = tot_debt_to_tot_eqy.droplevel(1)"
   ]
  },
  {
   "cell_type": "code",
   "execution_count": 115,
   "metadata": {},
   "outputs": [],
   "source": [
    "model = LinearRegression()"
   ]
  },
  {
   "cell_type": "code",
   "execution_count": 128,
   "metadata": {},
   "outputs": [],
   "source": [
    "def p_value():\n",
    "    ttest,pval = stats.ttest_rel(regr_data.iloc[0, :], regr_data.iloc[1, :])\n",
    "    return pval"
   ]
  },
  {
   "cell_type": "code",
   "execution_count": 166,
   "metadata": {},
   "outputs": [
    {
     "name": "stdout",
     "output_type": "stream",
     "text": [
      "0.000503211748167696\n",
      "1.0828668401107538e-06\n"
     ]
    }
   ],
   "source": [
    "pe_ratio_alpha = []\n",
    "pe_ratio_beta = []\n",
    "for i in range(train_df.shape[0]):\n",
    "    regr_data = pd.DataFrame(data=[pe_ratio.iloc[:, i], daily_return.iloc[:, i]])\n",
    "    regr_data.dropna(axis=1, inplace=True)\n",
    "    model.fit(regr_data.iloc[0, :].values.reshape(-1,1), regr_data.iloc[1, :])\n",
    "    pe_ratio_alpha.append(model.intercept_)\n",
    "    pe_ratio_beta.append(model.coef_[0])\n",
    "print(mean(pe_ratio_alpha))\n",
    "print(mean(pe_ratio_beta))"
   ]
  },
  {
   "cell_type": "code",
   "execution_count": 162,
   "metadata": {},
   "outputs": [
    {
     "name": "stdout",
     "output_type": "stream",
     "text": [
      "0.00056790744270942\n",
      "-2.62415919507881e-06\n"
     ]
    }
   ],
   "source": [
    "free_cash_flow_yield_alpha = []\n",
    "free_cash_flow_yield_beta = []\n",
    "for i in range(train_df.shape[0]):\n",
    "    regr_data = pd.DataFrame(data=[free_cash_flow_yield.iloc[:, i], daily_return.iloc[:, i]])\n",
    "    regr_data.dropna(axis=1, inplace=True)\n",
    "    model.fit(regr_data.iloc[0, :].values.reshape(-1,1), regr_data.iloc[1, :])\n",
    "    free_cash_flow_yield_alpha.append(model.intercept_)\n",
    "    free_cash_flow_yield_beta.append(model.coef_[0])\n",
    "print(mean(free_cash_flow_yield_alpha))\n",
    "print(mean(free_cash_flow_yield_beta))"
   ]
  },
  {
   "cell_type": "code",
   "execution_count": 163,
   "metadata": {},
   "outputs": [
    {
     "name": "stdout",
     "output_type": "stream",
     "text": [
      "0.0005189464435844311\n",
      "4.312798598702772e-06\n"
     ]
    }
   ],
   "source": [
    "px_to_book_ratio_alpha = []\n",
    "px_to_book_ratio_beta = []\n",
    "for i in range(train_df.shape[0]):\n",
    "    regr_data = pd.DataFrame(data=[px_to_book_ratio.iloc[:, i], daily_return.iloc[:, i]])\n",
    "    regr_data.dropna(axis=1, inplace=True)\n",
    "    model.fit(regr_data.iloc[0, :].values.reshape(-1,1), regr_data.iloc[1, :])\n",
    "    px_to_book_ratio_alpha.append(model.intercept_)\n",
    "    px_to_book_ratio_beta.append(model.coef_[0])\n",
    "print(mean(px_to_book_ratio_alpha))\n",
    "print(mean(px_to_book_ratio_beta))"
   ]
  },
  {
   "cell_type": "code",
   "execution_count": 164,
   "metadata": {},
   "outputs": [
    {
     "name": "stdout",
     "output_type": "stream",
     "text": [
      "0.000554278528317143\n",
      "-2.2030624856326845e-07\n"
     ]
    }
   ],
   "source": [
    "dvd_payout_ratio_alpha = []\n",
    "dvd_payout_ratio_beta = []\n",
    "for i in range(train_df.shape[0]):\n",
    "    regr_data = pd.DataFrame(data=[dvd_payout_ratio.iloc[:, i], daily_return.iloc[:, i]])\n",
    "    regr_data.dropna(axis=1, inplace=True)\n",
    "    model.fit(regr_data.iloc[0, :].values.reshape(-1,1), regr_data.iloc[1, :])\n",
    "    dvd_payout_ratio_alpha.append(model.intercept_)\n",
    "    dvd_payout_ratio_beta.append(model.coef_[0])\n",
    "print(mean(dvd_payout_ratio_alpha))\n",
    "print(mean(dvd_payout_ratio_beta))"
   ]
  },
  {
   "cell_type": "code",
   "execution_count": 167,
   "metadata": {},
   "outputs": [
    {
     "name": "stdout",
     "output_type": "stream",
     "text": [
      "0.0005763392137405066\n",
      "-1.713254849045817e-05\n"
     ]
    }
   ],
   "source": [
    "net_debt_to_ebitda_alpha = []\n",
    "net_debt_to_ebitda_beta = []\n",
    "for i in range(train_df.shape[0]):\n",
    "    regr_data = pd.DataFrame(data=[net_debt_to_ebitda.iloc[:, i], daily_return.iloc[:, i]])\n",
    "    regr_data.dropna(axis=1, inplace=True)\n",
    "    model.fit(regr_data.iloc[0, :].values.reshape(-1,1), regr_data.iloc[1, :])\n",
    "    net_debt_to_ebitda_alpha.append(model.intercept_)\n",
    "    net_debt_to_ebitda_beta.append(model.coef_[0])\n",
    "print(mean(net_debt_to_ebitda_alpha))\n",
    "print(mean(net_debt_to_ebitda_beta))"
   ]
  },
  {
   "cell_type": "code",
   "execution_count": 168,
   "metadata": {},
   "outputs": [
    {
     "name": "stdout",
     "output_type": "stream",
     "text": [
      "0.0005582097650499273\n",
      "-1.3262474933687633e-06\n"
     ]
    }
   ],
   "source": [
    "prof_margin_alpha = []\n",
    "prof_margin_beta = []\n",
    "for i in range(train_df.shape[0]):\n",
    "    regr_data = pd.DataFrame(data=[prof_margin.iloc[:, i], daily_return.iloc[:, i]])\n",
    "    regr_data.dropna(axis=1, inplace=True)\n",
    "    model.fit(regr_data.iloc[0, :].values.reshape(-1,1), regr_data.iloc[1, :])\n",
    "    prof_margin_alpha.append(model.intercept_)\n",
    "    prof_margin_beta.append(model.coef_[0])\n",
    "print(mean(prof_margin_alpha))\n",
    "print(mean(prof_margin_beta))"
   ]
  },
  {
   "cell_type": "code",
   "execution_count": 173,
   "metadata": {},
   "outputs": [
    {
     "name": "stdout",
     "output_type": "stream",
     "text": [
      "0.0004862915098656588\n",
      "4.810890702348492e-06\n"
     ]
    }
   ],
   "source": [
    "return_on_inv_capital_alpha = []\n",
    "return_on_inv_capital_beta = []\n",
    "for i in range(train_df.shape[0]):\n",
    "    regr_data = pd.DataFrame(data=[return_on_inv_capital.iloc[:, i], daily_return.iloc[:, i]])\n",
    "    regr_data.dropna(axis=1, inplace=True)\n",
    "    model.fit(regr_data.iloc[0, :].values.reshape(-1,1), regr_data.iloc[1, :])\n",
    "    return_on_inv_capital_alpha.append(model.intercept_)\n",
    "    return_on_inv_capital_beta.append(model.coef_[0])\n",
    "print(mean(return_on_inv_capital_alpha))\n",
    "print(mean(return_on_inv_capital_beta))"
   ]
  },
  {
   "cell_type": "code",
   "execution_count": 174,
   "metadata": {},
   "outputs": [
    {
     "name": "stdout",
     "output_type": "stream",
     "text": [
      "-0.02220811586397165\n",
      "0.0004375746977050012\n"
     ]
    }
   ],
   "source": [
    "rsi_14d_alpha = []\n",
    "rsi_14d_beta = []\n",
    "for i in range(train_df.shape[0]):\n",
    "    regr_data = pd.DataFrame(data=[rsi_14d.iloc[:, i], daily_return.iloc[:, i]])\n",
    "    regr_data.dropna(axis=1, inplace=True)\n",
    "    model.fit(regr_data.iloc[0, :].values.reshape(-1,1), regr_data.iloc[1, :])\n",
    "    rsi_14d_alpha.append(model.intercept_)\n",
    "    rsi_14d_beta.append(model.coef_[0])\n",
    "print(mean(rsi_14d_alpha))\n",
    "print(mean(rsi_14d_beta))"
   ]
  },
  {
   "cell_type": "code",
   "execution_count": 175,
   "metadata": {},
   "outputs": [
    {
     "name": "stdout",
     "output_type": "stream",
     "text": [
      "-0.022791927827497917\n",
      "0.000447816959120088\n"
     ]
    }
   ],
   "source": [
    "rsi_30d_alpha = []\n",
    "rsi_30d_beta = []\n",
    "for i in range(train_df.shape[0]):\n",
    "    regr_data = pd.DataFrame(data=[rsi_30d.iloc[:, i], daily_return.iloc[:, i]])\n",
    "    regr_data.dropna(axis=1, inplace=True)\n",
    "    model.fit(regr_data.iloc[0, :].values.reshape(-1,1), regr_data.iloc[1, :])\n",
    "    rsi_30d_alpha.append(model.intercept_)\n",
    "    rsi_30d_beta.append(model.coef_[0])\n",
    "print(mean(rsi_30d_alpha))\n",
    "print(mean(rsi_30d_beta))"
   ]
  },
  {
   "cell_type": "code",
   "execution_count": 176,
   "metadata": {},
   "outputs": [
    {
     "name": "stdout",
     "output_type": "stream",
     "text": [
      "0.000569057823688267\n",
      "-5.552737144621137e-07\n"
     ]
    }
   ],
   "source": [
    "mov_avg_50d_alpha = []\n",
    "mov_avg_50d_beta = []\n",
    "for i in range(train_df.shape[0]):\n",
    "    regr_data = pd.DataFrame(data=[mov_avg_50d.iloc[:, i], daily_return.iloc[:, i]])\n",
    "    regr_data.dropna(axis=1, inplace=True)\n",
    "    model.fit(regr_data.iloc[0, :].values.reshape(-1,1), regr_data.iloc[1, :])\n",
    "    mov_avg_50d_alpha.append(model.intercept_)\n",
    "    mov_avg_50d_beta.append(model.coef_[0])\n",
    "print(mean(mov_avg_50d_alpha))\n",
    "print(mean(mov_avg_50d_beta))"
   ]
  },
  {
   "cell_type": "code",
   "execution_count": 177,
   "metadata": {},
   "outputs": [
    {
     "name": "stdout",
     "output_type": "stream",
     "text": [
      "0.0005673726027980963\n",
      "-5.488811772393479e-07\n"
     ]
    }
   ],
   "source": [
    "mov_avg_100d_alpha = []\n",
    "mov_avg_100d_beta = []\n",
    "for i in range(train_df.shape[0]):\n",
    "    regr_data = pd.DataFrame(data=[mov_avg_100d.iloc[:, i], daily_return.iloc[:, i]])\n",
    "    regr_data.dropna(axis=1, inplace=True)\n",
    "    model.fit(regr_data.iloc[0, :].values.reshape(-1,1), regr_data.iloc[1, :])\n",
    "    mov_avg_100d_alpha.append(model.intercept_)\n",
    "    mov_avg_100d_beta.append(model.coef_[0])\n",
    "print(mean(mov_avg_100d_alpha))\n",
    "print(mean(mov_avg_100d_beta))"
   ]
  },
  {
   "cell_type": "code",
   "execution_count": 178,
   "metadata": {},
   "outputs": [
    {
     "name": "stdout",
     "output_type": "stream",
     "text": [
      "0.0005693162494223291\n",
      "-5.609177614925016e-07\n"
     ]
    }
   ],
   "source": [
    "mov_avg_200d_alpha = []\n",
    "mov_avg_200d_beta = []\n",
    "for i in range(train_df.shape[0]):\n",
    "    regr_data = pd.DataFrame(data=[mov_avg_200d.iloc[:, i], daily_return.iloc[:, i]])\n",
    "    regr_data.dropna(axis=1, inplace=True)\n",
    "    model.fit(regr_data.iloc[0, :].values.reshape(-1,1), regr_data.iloc[1, :])\n",
    "    mov_avg_200d_alpha.append(model.intercept_)\n",
    "    mov_avg_200d_beta.append(model.coef_[0])\n",
    "print(mean(mov_avg_200d_alpha))\n",
    "print(mean(mov_avg_200d_beta))"
   ]
  },
  {
   "cell_type": "code",
   "execution_count": 179,
   "metadata": {},
   "outputs": [
    {
     "name": "stdout",
     "output_type": "stream",
     "text": [
      "0.0005311762518495181\n",
      "1.7284820855529712e-06\n"
     ]
    }
   ],
   "source": [
    "return_on_asset_alpha = []\n",
    "return_on_asset_beta = []\n",
    "for i in range(train_df.shape[0]):\n",
    "    regr_data = pd.DataFrame(data=[return_on_asset.iloc[:, i], daily_return.iloc[:, i]])\n",
    "    regr_data.dropna(axis=1, inplace=True)\n",
    "    model.fit(regr_data.iloc[0, :].values.reshape(-1,1), regr_data.iloc[1, :])\n",
    "    return_on_asset_alpha.append(model.intercept_)\n",
    "    return_on_asset_beta.append(model.coef_[0])\n",
    "print(mean(return_on_asset_alpha))\n",
    "print(mean(return_on_asset_beta))"
   ]
  },
  {
   "cell_type": "code",
   "execution_count": 180,
   "metadata": {},
   "outputs": [
    {
     "name": "stdout",
     "output_type": "stream",
     "text": [
      "0.000474329250154573\n",
      "3.974680978963359e-06\n"
     ]
    }
   ],
   "source": [
    "px_to_cash_flow_alpha = []\n",
    "px_to_cash_flow_beta = []\n",
    "for i in range(train_df.shape[0]):\n",
    "    regr_data = pd.DataFrame(data=[px_to_cash_flow.iloc[:, i], daily_return.iloc[:, i]])\n",
    "    regr_data.dropna(axis=1, inplace=True)\n",
    "    model.fit(regr_data.iloc[0, :].values.reshape(-1,1), regr_data.iloc[1, :])\n",
    "    px_to_cash_flow_alpha.append(model.intercept_)\n",
    "    px_to_cash_flow_beta.append(model.coef_[0])\n",
    "print(mean(px_to_cash_flow_alpha))\n",
    "print(mean(px_to_cash_flow_beta))"
   ]
  },
  {
   "cell_type": "code",
   "execution_count": 181,
   "metadata": {},
   "outputs": [
    {
     "name": "stdout",
     "output_type": "stream",
     "text": [
      "0.0003448707925660071\n",
      "6.668163479549944e-05\n"
     ]
    }
   ],
   "source": [
    "px_to_sales_ratio_alpha = []\n",
    "px_to_sales_ratio_beta = []\n",
    "for i in range(train_df.shape[0]):\n",
    "    regr_data = pd.DataFrame(data=[px_to_sales_ratio.iloc[:, i], daily_return.iloc[:, i]])\n",
    "    regr_data.dropna(axis=1, inplace=True)\n",
    "    model.fit(regr_data.iloc[0, :].values.reshape(-1,1), regr_data.iloc[1, :])\n",
    "    px_to_sales_ratio_alpha.append(model.intercept_)\n",
    "    px_to_sales_ratio_beta.append(model.coef_[0])\n",
    "print(mean(px_to_sales_ratio_alpha))\n",
    "print(mean(px_to_sales_ratio_beta))"
   ]
  },
  {
   "cell_type": "code",
   "execution_count": 182,
   "metadata": {},
   "outputs": [
    {
     "name": "stdout",
     "output_type": "stream",
     "text": [
      "0.0005744110177510851\n",
      "-2.174474340609308e-06\n"
     ]
    }
   ],
   "source": [
    "cap_expend_to_sales_alpha = []\n",
    "cap_expend_to_sales_beta = []\n",
    "for i in range(train_df.shape[0]):\n",
    "    regr_data = pd.DataFrame(data=[cap_expend_to_sales.iloc[:, i], daily_return.iloc[:, i]])\n",
    "    regr_data.dropna(axis=1, inplace=True)\n",
    "    model.fit(regr_data.iloc[0, :].values.reshape(-1,1), regr_data.iloc[1, :])\n",
    "    cap_expend_to_sales_alpha.append(model.intercept_)\n",
    "    cap_expend_to_sales_beta.append(model.coef_[0])\n",
    "print(mean(cap_expend_to_sales_alpha))\n",
    "print(mean(cap_expend_to_sales_beta))"
   ]
  },
  {
   "cell_type": "code",
   "execution_count": 184,
   "metadata": {},
   "outputs": [
    {
     "name": "stdout",
     "output_type": "stream",
     "text": [
      "0.0005412643424732849\n",
      "-1.448661697196833e-09\n"
     ]
    }
   ],
   "source": [
    "tot_debt_to_tot_eqy_alpha = []\n",
    "tot_debt_to_tot_eqy_beta = []\n",
    "for i in range(train_df.shape[0]):\n",
    "    regr_data = pd.DataFrame(data=[tot_debt_to_tot_eqy.iloc[:, i], daily_return.iloc[:, i]])\n",
    "    regr_data.dropna(axis=1, inplace=True)\n",
    "    model.fit(regr_data.iloc[0, :].values.reshape(-1,1), regr_data.iloc[1, :])\n",
    "    tot_debt_to_tot_eqy_alpha.append(model.intercept_)\n",
    "    tot_debt_to_tot_eqy_beta.append(model.coef_[0])\n",
    "print(mean(tot_debt_to_tot_eqy_alpha))\n",
    "print(mean(tot_debt_to_tot_eqy_beta))"
   ]
  },
  {
   "cell_type": "code",
   "execution_count": null,
   "metadata": {},
   "outputs": [],
   "source": []
  }
 ],
 "metadata": {
  "kernelspec": {
   "display_name": "Python 3",
   "language": "python",
   "name": "python3"
  },
  "language_info": {
   "codemirror_mode": {
    "name": "ipython",
    "version": 3
   },
   "file_extension": ".py",
   "mimetype": "text/x-python",
   "name": "python",
   "nbconvert_exporter": "python",
   "pygments_lexer": "ipython3",
   "version": "3.8.5"
  }
 },
 "nbformat": 4,
 "nbformat_minor": 4
}
